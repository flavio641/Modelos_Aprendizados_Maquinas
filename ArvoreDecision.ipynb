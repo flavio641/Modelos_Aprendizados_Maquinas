{
  "nbformat": 4,
  "nbformat_minor": 0,
  "metadata": {
    "colab": {
      "provenance": [],
      "authorship_tag": "ABX9TyPiv1xgS7ZMM1pFLx0ZAlv0",
      "include_colab_link": true
    },
    "kernelspec": {
      "name": "python3",
      "display_name": "Python 3"
    },
    "language_info": {
      "name": "python"
    }
  },
  "cells": [
    {
      "cell_type": "markdown",
      "metadata": {
        "id": "view-in-github",
        "colab_type": "text"
      },
      "source": [
        "<a href=\"https://colab.research.google.com/github/flavio641/Modelos_Aprendizados_Maquinas/blob/main/ArvoreDecision.ipynb\" target=\"_parent\"><img src=\"https://colab.research.google.com/assets/colab-badge.svg\" alt=\"Open In Colab\"/></a>"
      ]
    },
    {
      "cell_type": "code",
      "execution_count": 1,
      "metadata": {
        "id": "Zx3fAhkhknx1"
      },
      "outputs": [],
      "source": [
        "import pandas as pd\n",
        "import numpy as np \n",
        "import matplotlib.pyplot as plt\n"
      ]
    },
    {
      "cell_type": "code",
      "source": [
        "df = pd.read_csv('/content/dt.csv')\n",
        "df"
      ],
      "metadata": {
        "colab": {
          "base_uri": "https://localhost:8080/",
          "height": 424
        },
        "id": "sqMkeqJqkxRl",
        "outputId": "4b773025-eeba-4c61-cece-c5a97573c42a"
      },
      "execution_count": 2,
      "outputs": [
        {
          "output_type": "execute_result",
          "data": {
            "text/plain": [
              "      Age  NumOfProducts  IsActiveMember  Exited\n",
              "0      42              1               1       1\n",
              "1      41              1               1       0\n",
              "2      42              3               0       1\n",
              "3      39              2               0       0\n",
              "4      43              1               1       0\n",
              "...   ...            ...             ...     ...\n",
              "9995   39              2               0       0\n",
              "9996   35              1               1       0\n",
              "9997   36              1               1       1\n",
              "9998   42              2               0       1\n",
              "9999   28              1               0       0\n",
              "\n",
              "[10000 rows x 4 columns]"
            ],
            "text/html": [
              "\n",
              "  <div id=\"df-37353c93-0e03-47d9-89fa-6abf2ebbdf10\">\n",
              "    <div class=\"colab-df-container\">\n",
              "      <div>\n",
              "<style scoped>\n",
              "    .dataframe tbody tr th:only-of-type {\n",
              "        vertical-align: middle;\n",
              "    }\n",
              "\n",
              "    .dataframe tbody tr th {\n",
              "        vertical-align: top;\n",
              "    }\n",
              "\n",
              "    .dataframe thead th {\n",
              "        text-align: right;\n",
              "    }\n",
              "</style>\n",
              "<table border=\"1\" class=\"dataframe\">\n",
              "  <thead>\n",
              "    <tr style=\"text-align: right;\">\n",
              "      <th></th>\n",
              "      <th>Age</th>\n",
              "      <th>NumOfProducts</th>\n",
              "      <th>IsActiveMember</th>\n",
              "      <th>Exited</th>\n",
              "    </tr>\n",
              "  </thead>\n",
              "  <tbody>\n",
              "    <tr>\n",
              "      <th>0</th>\n",
              "      <td>42</td>\n",
              "      <td>1</td>\n",
              "      <td>1</td>\n",
              "      <td>1</td>\n",
              "    </tr>\n",
              "    <tr>\n",
              "      <th>1</th>\n",
              "      <td>41</td>\n",
              "      <td>1</td>\n",
              "      <td>1</td>\n",
              "      <td>0</td>\n",
              "    </tr>\n",
              "    <tr>\n",
              "      <th>2</th>\n",
              "      <td>42</td>\n",
              "      <td>3</td>\n",
              "      <td>0</td>\n",
              "      <td>1</td>\n",
              "    </tr>\n",
              "    <tr>\n",
              "      <th>3</th>\n",
              "      <td>39</td>\n",
              "      <td>2</td>\n",
              "      <td>0</td>\n",
              "      <td>0</td>\n",
              "    </tr>\n",
              "    <tr>\n",
              "      <th>4</th>\n",
              "      <td>43</td>\n",
              "      <td>1</td>\n",
              "      <td>1</td>\n",
              "      <td>0</td>\n",
              "    </tr>\n",
              "    <tr>\n",
              "      <th>...</th>\n",
              "      <td>...</td>\n",
              "      <td>...</td>\n",
              "      <td>...</td>\n",
              "      <td>...</td>\n",
              "    </tr>\n",
              "    <tr>\n",
              "      <th>9995</th>\n",
              "      <td>39</td>\n",
              "      <td>2</td>\n",
              "      <td>0</td>\n",
              "      <td>0</td>\n",
              "    </tr>\n",
              "    <tr>\n",
              "      <th>9996</th>\n",
              "      <td>35</td>\n",
              "      <td>1</td>\n",
              "      <td>1</td>\n",
              "      <td>0</td>\n",
              "    </tr>\n",
              "    <tr>\n",
              "      <th>9997</th>\n",
              "      <td>36</td>\n",
              "      <td>1</td>\n",
              "      <td>1</td>\n",
              "      <td>1</td>\n",
              "    </tr>\n",
              "    <tr>\n",
              "      <th>9998</th>\n",
              "      <td>42</td>\n",
              "      <td>2</td>\n",
              "      <td>0</td>\n",
              "      <td>1</td>\n",
              "    </tr>\n",
              "    <tr>\n",
              "      <th>9999</th>\n",
              "      <td>28</td>\n",
              "      <td>1</td>\n",
              "      <td>0</td>\n",
              "      <td>0</td>\n",
              "    </tr>\n",
              "  </tbody>\n",
              "</table>\n",
              "<p>10000 rows × 4 columns</p>\n",
              "</div>\n",
              "      <button class=\"colab-df-convert\" onclick=\"convertToInteractive('df-37353c93-0e03-47d9-89fa-6abf2ebbdf10')\"\n",
              "              title=\"Convert this dataframe to an interactive table.\"\n",
              "              style=\"display:none;\">\n",
              "        \n",
              "  <svg xmlns=\"http://www.w3.org/2000/svg\" height=\"24px\"viewBox=\"0 0 24 24\"\n",
              "       width=\"24px\">\n",
              "    <path d=\"M0 0h24v24H0V0z\" fill=\"none\"/>\n",
              "    <path d=\"M18.56 5.44l.94 2.06.94-2.06 2.06-.94-2.06-.94-.94-2.06-.94 2.06-2.06.94zm-11 1L8.5 8.5l.94-2.06 2.06-.94-2.06-.94L8.5 2.5l-.94 2.06-2.06.94zm10 10l.94 2.06.94-2.06 2.06-.94-2.06-.94-.94-2.06-.94 2.06-2.06.94z\"/><path d=\"M17.41 7.96l-1.37-1.37c-.4-.4-.92-.59-1.43-.59-.52 0-1.04.2-1.43.59L10.3 9.45l-7.72 7.72c-.78.78-.78 2.05 0 2.83L4 21.41c.39.39.9.59 1.41.59.51 0 1.02-.2 1.41-.59l7.78-7.78 2.81-2.81c.8-.78.8-2.07 0-2.86zM5.41 20L4 18.59l7.72-7.72 1.47 1.35L5.41 20z\"/>\n",
              "  </svg>\n",
              "      </button>\n",
              "      \n",
              "  <style>\n",
              "    .colab-df-container {\n",
              "      display:flex;\n",
              "      flex-wrap:wrap;\n",
              "      gap: 12px;\n",
              "    }\n",
              "\n",
              "    .colab-df-convert {\n",
              "      background-color: #E8F0FE;\n",
              "      border: none;\n",
              "      border-radius: 50%;\n",
              "      cursor: pointer;\n",
              "      display: none;\n",
              "      fill: #1967D2;\n",
              "      height: 32px;\n",
              "      padding: 0 0 0 0;\n",
              "      width: 32px;\n",
              "    }\n",
              "\n",
              "    .colab-df-convert:hover {\n",
              "      background-color: #E2EBFA;\n",
              "      box-shadow: 0px 1px 2px rgba(60, 64, 67, 0.3), 0px 1px 3px 1px rgba(60, 64, 67, 0.15);\n",
              "      fill: #174EA6;\n",
              "    }\n",
              "\n",
              "    [theme=dark] .colab-df-convert {\n",
              "      background-color: #3B4455;\n",
              "      fill: #D2E3FC;\n",
              "    }\n",
              "\n",
              "    [theme=dark] .colab-df-convert:hover {\n",
              "      background-color: #434B5C;\n",
              "      box-shadow: 0px 1px 3px 1px rgba(0, 0, 0, 0.15);\n",
              "      filter: drop-shadow(0px 1px 2px rgba(0, 0, 0, 0.3));\n",
              "      fill: #FFFFFF;\n",
              "    }\n",
              "  </style>\n",
              "\n",
              "      <script>\n",
              "        const buttonEl =\n",
              "          document.querySelector('#df-37353c93-0e03-47d9-89fa-6abf2ebbdf10 button.colab-df-convert');\n",
              "        buttonEl.style.display =\n",
              "          google.colab.kernel.accessAllowed ? 'block' : 'none';\n",
              "\n",
              "        async function convertToInteractive(key) {\n",
              "          const element = document.querySelector('#df-37353c93-0e03-47d9-89fa-6abf2ebbdf10');\n",
              "          const dataTable =\n",
              "            await google.colab.kernel.invokeFunction('convertToInteractive',\n",
              "                                                     [key], {});\n",
              "          if (!dataTable) return;\n",
              "\n",
              "          const docLinkHtml = 'Like what you see? Visit the ' +\n",
              "            '<a target=\"_blank\" href=https://colab.research.google.com/notebooks/data_table.ipynb>data table notebook</a>'\n",
              "            + ' to learn more about interactive tables.';\n",
              "          element.innerHTML = '';\n",
              "          dataTable['output_type'] = 'display_data';\n",
              "          await google.colab.output.renderOutput(dataTable, element);\n",
              "          const docLink = document.createElement('div');\n",
              "          docLink.innerHTML = docLinkHtml;\n",
              "          element.appendChild(docLink);\n",
              "        }\n",
              "      </script>\n",
              "    </div>\n",
              "  </div>\n",
              "  "
            ]
          },
          "metadata": {},
          "execution_count": 2
        }
      ]
    },
    {
      "cell_type": "markdown",
      "source": [
        "# ***Separar variável preditiva e variável resposta***"
      ],
      "metadata": {
        "id": "itpaj5eQlZJk"
      }
    },
    {
      "cell_type": "code",
      "source": [
        "X = df.drop('Exited', axis= 1)\n",
        "y = df.Exited"
      ],
      "metadata": {
        "id": "9YXH9oTslj4y"
      },
      "execution_count": 3,
      "outputs": []
    },
    {
      "cell_type": "markdown",
      "source": [
        "# ***Análise Preliminares***"
      ],
      "metadata": {
        "id": "-SU6W9WYmaT8"
      }
    },
    {
      "cell_type": "code",
      "source": [
        "mi = X.Age.min()\n",
        "ma = X.Age.max()\n",
        "bins = np.linspace(mi, ma, 20)\n",
        "plt.figure(figsize= (15,5))\n",
        "plt.hist(X.loc[y==0].Age, bins = bins, rwidth= 0.80, color = 'b', alpha= .3, density= True, label= 'Clientes Fieis')\n",
        "plt.hist(X.loc[y==1].Age, bins = bins, rwidth = 0.80, color = 'r', alpha= .3, density= True, label= 'Abandonam')\n",
        "plt.legend()"
      ],
      "metadata": {
        "colab": {
          "base_uri": "https://localhost:8080/",
          "height": 337
        },
        "id": "I5IoPRMwmfDT",
        "outputId": "93da6e7b-4a0f-4815-a400-46a506a6ed68"
      },
      "execution_count": 4,
      "outputs": [
        {
          "output_type": "execute_result",
          "data": {
            "text/plain": [
              "<matplotlib.legend.Legend at 0x7f68e765f730>"
            ]
          },
          "metadata": {},
          "execution_count": 4
        },
        {
          "output_type": "display_data",
          "data": {
            "text/plain": [
              "<Figure size 1080x360 with 1 Axes>"
            ],
            "image/png": "[encoded data removed]"
          },
          "metadata": {
            "needs_background": "light"
          }
        }
      ]
    },
    {
      "cell_type": "code",
      "source": [
        "# Proporções de Pessoas que abandonam a empresa\n",
        "y.loc[X.Age >= 40].mean()"
      ],
      "metadata": {
        "colab": {
          "base_uri": "https://localhost:8080/"
        },
        "id": "RSdFE9mWp05Q",
        "outputId": "86756758-fceb-4b2a-8783-22da80055785"
      },
      "execution_count": 5,
      "outputs": [
        {
          "output_type": "execute_result",
          "data": {
            "text/plain": [
              "0.3588337901819088"
            ]
          },
          "metadata": {},
          "execution_count": 5
        }
      ]
    },
    {
      "cell_type": "code",
      "source": [
        "mi = X.NumOfProducts.min()\n",
        "ma = X.NumOfProducts.max()\n",
        "bins = np.linspace(mi, ma, 20)\n",
        "plt.figure(figsize= (15,5))\n",
        "plt.hist(X.loc[y==0].NumOfProducts, bins = bins, rwidth= 0.80, color = 'b', alpha= .3, density= True, label= 'Clientes Fieis')\n",
        "plt.hist(X.loc[y==1].NumOfProducts, bins = bins, rwidth = 0.80, color = 'r', alpha= .3, density= True, label= 'Abandonam')\n",
        "plt.legend()"
      ],
      "metadata": {
        "colab": {
          "base_uri": "https://localhost:8080/",
          "height": 337
        },
        "id": "asreSVq6rEGo",
        "outputId": "81d57e3e-17da-4e3b-b8bb-6dc754c34502"
      },
      "execution_count": 6,
      "outputs": [
        {
          "output_type": "execute_result",
          "data": {
            "text/plain": [
              "<matplotlib.legend.Legend at 0x7f68e7515a90>"
            ]
          },
          "metadata": {},
          "execution_count": 6
        },
        {
          "output_type": "display_data",
          "data": {
            "text/plain": [
              "<Figure size 1080x360 with 1 Axes>"
            ],
            "image/png": "[encoded data removed]"
          },
          "metadata": {
            "needs_background": "light"
          }
        }
      ]
    },
    {
      "cell_type": "code",
      "source": [
        "mi = X.IsActiveMember.min()\n",
        "ma = X.IsActiveMember.max()\n",
        "bins = np.linspace(mi, ma, 20)\n",
        "plt.figure(figsize= (15,5))\n",
        "plt.hist(X.loc[y==0].IsActiveMember, bins = bins, rwidth= 0.80, color = 'b', alpha= .3, density= True, label= 'Clientes Fieis')\n",
        "plt.hist(X.loc[y==1].IsActiveMember, bins = bins, rwidth = 0.80, color = 'r', alpha= .3, density= True, label= 'Abandonam')\n",
        "plt.legend()"
      ],
      "metadata": {
        "colab": {
          "base_uri": "https://localhost:8080/",
          "height": 337
        },
        "id": "UGXmZIYBrS8D",
        "outputId": "a9b9865a-238a-4616-8ee7-d46f42dfe9db"
      },
      "execution_count": 7,
      "outputs": [
        {
          "output_type": "execute_result",
          "data": {
            "text/plain": [
              "<matplotlib.legend.Legend at 0x7f68e701c5b0>"
            ]
          },
          "metadata": {},
          "execution_count": 7
        },
        {
          "output_type": "display_data",
          "data": {
            "text/plain": [
              "<Figure size 1080x360 with 1 Axes>"
            ],
            "image/png": "[encoded data removed]"
          },
          "metadata": {
            "needs_background": "light"
          }
        }
      ]
    },
    {
      "cell_type": "markdown",
      "source": [
        "# ***Divisão em Conjunto Treino e Conjuto Teste***"
      ],
      "metadata": {
        "id": "Ee5FaIX0rlKE"
      }
    },
    {
      "cell_type": "code",
      "source": [
        "from sklearn.model_selection import train_test_split\n",
        "x_treino, x_teste, y_treino, y_teste = train_test_split(X,y, test_size= 0.3, random_state= 61658)"
      ],
      "metadata": {
        "id": "wU4NyYRnrtsW"
      },
      "execution_count": 29,
      "outputs": []
    },
    {
      "cell_type": "markdown",
      "source": [
        "# ***Definição dos Parâmetros da validação Cruzada***"
      ],
      "metadata": {
        "id": "ayfnmS4nttBo"
      }
    },
    {
      "cell_type": "code",
      "source": [
        "from sklearn.tree import DecisionTreeClassifier\n",
        "from sklearn.model_selection import GridSearchCV\n",
        "\n",
        "params = {\n",
        "    'max_leaf_nodes' : [4, 8, 16, 32, 64, 128, 256, 512, 1024, 2048],\n",
        "    'criterion': ['gini', 'entropy']\n",
        "}\n",
        "\n",
        "grid = GridSearchCV(\n",
        "    DecisionTreeClassifier(random_state= 61658), # Primeiro argumento: o Modelo\n",
        "    params,                                      # Segundo Argumento: Parâmetros\n",
        "    cv = 10,                                     # Argumento cv: Qtd de folds\n",
        "    scoring = 'roc_auc',                         # Argumento scoring: Métricas \n",
        "    verbose = 5                                  # Argumento verbose: mostra na tela                                 \n",
        ")"
      ],
      "metadata": {
        "id": "uSFywEHLt3bt"
      },
      "execution_count": 31,
      "outputs": []
    },
    {
      "cell_type": "markdown",
      "source": [
        "# ***Encontrar o melhor modelo nos dados de treino na validação cruzada***"
      ],
      "metadata": {
        "id": "6U45YOxtym5A"
      }
    },
    {
      "cell_type": "code",
      "source": [
        "grid.fit(x_treino, y_treino)"
      ],
      "metadata": {
        "id": "dq0GWPi7yxDp",
        "colab": {
          "base_uri": "https://localhost:8080/"
        },
        "outputId": "e06107de-3e4e-4653-ee33-a7b4d7539531"
      },
      "execution_count": 32,
      "outputs": [
        {
          "output_type": "stream",
          "name": "stdout",
          "text": [
            "Fitting 10 folds for each of 20 candidates, totalling 200 fits\n",
            "[CV 1/10] END .criterion=gini, max_leaf_nodes=4;, score=0.756 total time=   0.0s\n",
            "[CV 2/10] END .criterion=gini, max_leaf_nodes=4;, score=0.731 total time=   0.0s\n",
            "[CV 3/10] END .criterion=gini, max_leaf_nodes=4;, score=0.756 total time=   0.0s\n",
            "[CV 4/10] END .criterion=gini, max_leaf_nodes=4;, score=0.757 total time=   0.0s\n",
            "[CV 5/10] END .criterion=gini, max_leaf_nodes=4;, score=0.762 total time=   0.0s\n",
            "[CV 6/10] END .criterion=gini, max_leaf_nodes=4;, score=0.738 total time=   0.0s\n",
            "[CV 7/10] END .criterion=gini, max_leaf_nodes=4;, score=0.715 total time=   0.0s\n",
            "[CV 8/10] END .criterion=gini, max_leaf_nodes=4;, score=0.726 total time=   0.0s\n",
            "[CV 9/10] END .criterion=gini, max_leaf_nodes=4;, score=0.730 total time=   0.0s\n",
            "[CV 10/10] END criterion=gini, max_leaf_nodes=4;, score=0.756 total time=   0.0s\n",
            "[CV 1/10] END .criterion=gini, max_leaf_nodes=8;, score=0.818 total time=   0.0s\n",
            "[CV 2/10] END .criterion=gini, max_leaf_nodes=8;, score=0.791 total time=   0.0s\n",
            "[CV 3/10] END .criterion=gini, max_leaf_nodes=8;, score=0.830 total time=   0.0s\n",
            "[CV 4/10] END .criterion=gini, max_leaf_nodes=8;, score=0.833 total time=   0.0s\n",
            "[CV 5/10] END .criterion=gini, max_leaf_nodes=8;, score=0.817 total time=   0.0s\n",
            "[CV 6/10] END .criterion=gini, max_leaf_nodes=8;, score=0.808 total time=   0.0s\n",
            "[CV 7/10] END .criterion=gini, max_leaf_nodes=8;, score=0.798 total time=   0.0s\n",
            "[CV 8/10] END .criterion=gini, max_leaf_nodes=8;, score=0.805 total time=   0.0s\n",
            "[CV 9/10] END .criterion=gini, max_leaf_nodes=8;, score=0.781 total time=   0.0s\n",
            "[CV 10/10] END criterion=gini, max_leaf_nodes=8;, score=0.817 total time=   0.0s\n",
            "[CV 1/10] END criterion=gini, max_leaf_nodes=16;, score=0.825 total time=   0.0s\n",
            "[CV 2/10] END criterion=gini, max_leaf_nodes=16;, score=0.801 total time=   0.0s\n",
            "[CV 3/10] END criterion=gini, max_leaf_nodes=16;, score=0.841 total time=   0.0s\n",
            "[CV 4/10] END criterion=gini, max_leaf_nodes=16;, score=0.858 total time=   0.0s\n",
            "[CV 5/10] END criterion=gini, max_leaf_nodes=16;, score=0.823 total time=   0.0s\n",
            "[CV 6/10] END criterion=gini, max_leaf_nodes=16;, score=0.820 total time=   0.0s\n",
            "[CV 7/10] END criterion=gini, max_leaf_nodes=16;, score=0.807 total time=   0.0s\n",
            "[CV 8/10] END criterion=gini, max_leaf_nodes=16;, score=0.827 total time=   0.0s\n",
            "[CV 9/10] END criterion=gini, max_leaf_nodes=16;, score=0.801 total time=   0.0s\n",
            "[CV 10/10] END criterion=gini, max_leaf_nodes=16;, score=0.843 total time=   0.0s\n",
            "[CV 1/10] END criterion=gini, max_leaf_nodes=32;, score=0.822 total time=   0.0s\n",
            "[CV 2/10] END criterion=gini, max_leaf_nodes=32;, score=0.808 total time=   0.0s\n",
            "[CV 3/10] END criterion=gini, max_leaf_nodes=32;, score=0.849 total time=   0.0s\n",
            "[CV 4/10] END criterion=gini, max_leaf_nodes=32;, score=0.847 total time=   0.0s\n",
            "[CV 5/10] END criterion=gini, max_leaf_nodes=32;, score=0.840 total time=   0.0s\n",
            "[CV 6/10] END criterion=gini, max_leaf_nodes=32;, score=0.817 total time=   0.0s\n",
            "[CV 7/10] END criterion=gini, max_leaf_nodes=32;, score=0.805 total time=   0.0s\n",
            "[CV 8/10] END criterion=gini, max_leaf_nodes=32;, score=0.833 total time=   0.0s\n",
            "[CV 9/10] END criterion=gini, max_leaf_nodes=32;, score=0.803 total time=   0.0s\n",
            "[CV 10/10] END criterion=gini, max_leaf_nodes=32;, score=0.842 total time=   0.0s\n",
            "[CV 1/10] END criterion=gini, max_leaf_nodes=64;, score=0.809 total time=   0.0s\n",
            "[CV 2/10] END criterion=gini, max_leaf_nodes=64;, score=0.805 total time=   0.0s\n",
            "[CV 3/10] END criterion=gini, max_leaf_nodes=64;, score=0.830 total time=   0.0s\n",
            "[CV 4/10] END criterion=gini, max_leaf_nodes=64;, score=0.839 total time=   0.0s\n",
            "[CV 5/10] END criterion=gini, max_leaf_nodes=64;, score=0.844 total time=   0.0s\n",
            "[CV 6/10] END criterion=gini, max_leaf_nodes=64;, score=0.798 total time=   0.0s\n",
            "[CV 7/10] END criterion=gini, max_leaf_nodes=64;, score=0.807 total time=   0.0s\n",
            "[CV 8/10] END criterion=gini, max_leaf_nodes=64;, score=0.826 total time=   0.0s\n",
            "[CV 9/10] END criterion=gini, max_leaf_nodes=64;, score=0.804 total time=   0.0s\n",
            "[CV 10/10] END criterion=gini, max_leaf_nodes=64;, score=0.837 total time=   0.0s\n",
            "[CV 1/10] END criterion=gini, max_leaf_nodes=128;, score=0.807 total time=   0.0s\n",
            "[CV 2/10] END criterion=gini, max_leaf_nodes=128;, score=0.794 total time=   0.0s\n",
            "[CV 3/10] END criterion=gini, max_leaf_nodes=128;, score=0.829 total time=   0.0s\n",
            "[CV 4/10] END criterion=gini, max_leaf_nodes=128;, score=0.834 total time=   0.0s\n",
            "[CV 5/10] END criterion=gini, max_leaf_nodes=128;, score=0.825 total time=   0.0s\n",
            "[CV 6/10] END criterion=gini, max_leaf_nodes=128;, score=0.787 total time=   0.0s\n",
            "[CV 7/10] END criterion=gini, max_leaf_nodes=128;, score=0.816 total time=   0.0s\n",
            "[CV 8/10] END criterion=gini, max_leaf_nodes=128;, score=0.814 total time=   0.0s\n",
            "[CV 9/10] END criterion=gini, max_leaf_nodes=128;, score=0.793 total time=   0.0s\n",
            "[CV 10/10] END criterion=gini, max_leaf_nodes=128;, score=0.825 total time=   0.0s\n",
            "[CV 1/10] END criterion=gini, max_leaf_nodes=256;, score=0.808 total time=   0.0s\n",
            "[CV 2/10] END criterion=gini, max_leaf_nodes=256;, score=0.794 total time=   0.0s\n",
            "[CV 3/10] END criterion=gini, max_leaf_nodes=256;, score=0.830 total time=   0.0s\n",
            "[CV 4/10] END criterion=gini, max_leaf_nodes=256;, score=0.832 total time=   0.0s\n",
            "[CV 5/10] END criterion=gini, max_leaf_nodes=256;, score=0.818 total time=   0.0s\n",
            "[CV 6/10] END criterion=gini, max_leaf_nodes=256;, score=0.773 total time=   0.0s\n",
            "[CV 7/10] END criterion=gini, max_leaf_nodes=256;, score=0.805 total time=   0.0s\n",
            "[CV 8/10] END criterion=gini, max_leaf_nodes=256;, score=0.810 total time=   0.0s\n",
            "[CV 9/10] END criterion=gini, max_leaf_nodes=256;, score=0.783 total time=   0.0s\n",
            "[CV 10/10] END criterion=gini, max_leaf_nodes=256;, score=0.828 total time=   0.0s\n",
            "[CV 1/10] END criterion=gini, max_leaf_nodes=512;, score=0.808 total time=   0.0s\n",
            "[CV 2/10] END criterion=gini, max_leaf_nodes=512;, score=0.794 total time=   0.0s\n",
            "[CV 3/10] END criterion=gini, max_leaf_nodes=512;, score=0.830 total time=   0.0s\n",
            "[CV 4/10] END criterion=gini, max_leaf_nodes=512;, score=0.832 total time=   0.0s\n",
            "[CV 5/10] END criterion=gini, max_leaf_nodes=512;, score=0.818 total time=   0.0s\n",
            "[CV 6/10] END criterion=gini, max_leaf_nodes=512;, score=0.773 total time=   0.0s\n",
            "[CV 7/10] END criterion=gini, max_leaf_nodes=512;, score=0.805 total time=   0.0s\n",
            "[CV 8/10] END criterion=gini, max_leaf_nodes=512;, score=0.810 total time=   0.0s\n",
            "[CV 9/10] END criterion=gini, max_leaf_nodes=512;, score=0.783 total time=   0.0s\n",
            "[CV 10/10] END criterion=gini, max_leaf_nodes=512;, score=0.828 total time=   0.0s\n",
            "[CV 1/10] END criterion=gini, max_leaf_nodes=1024;, score=0.808 total time=   0.0s\n",
            "[CV 2/10] END criterion=gini, max_leaf_nodes=1024;, score=0.794 total time=   0.0s\n",
            "[CV 3/10] END criterion=gini, max_leaf_nodes=1024;, score=0.830 total time=   0.0s\n",
            "[CV 4/10] END criterion=gini, max_leaf_nodes=1024;, score=0.832 total time=   0.0s\n",
            "[CV 5/10] END criterion=gini, max_leaf_nodes=1024;, score=0.818 total time=   0.0s\n",
            "[CV 6/10] END criterion=gini, max_leaf_nodes=1024;, score=0.773 total time=   0.0s\n",
            "[CV 7/10] END criterion=gini, max_leaf_nodes=1024;, score=0.805 total time=   0.0s\n",
            "[CV 8/10] END criterion=gini, max_leaf_nodes=1024;, score=0.810 total time=   0.0s\n",
            "[CV 9/10] END criterion=gini, max_leaf_nodes=1024;, score=0.783 total time=   0.0s\n",
            "[CV 10/10] END criterion=gini, max_leaf_nodes=1024;, score=0.828 total time=   0.0s\n",
            "[CV 1/10] END criterion=gini, max_leaf_nodes=2048;, score=0.808 total time=   0.0s\n",
            "[CV 2/10] END criterion=gini, max_leaf_nodes=2048;, score=0.794 total time=   0.0s\n",
            "[CV 3/10] END criterion=gini, max_leaf_nodes=2048;, score=0.830 total time=   0.0s\n",
            "[CV 4/10] END criterion=gini, max_leaf_nodes=2048;, score=0.832 total time=   0.0s\n",
            "[CV 5/10] END criterion=gini, max_leaf_nodes=2048;, score=0.818 total time=   0.0s\n",
            "[CV 6/10] END criterion=gini, max_leaf_nodes=2048;, score=0.773 total time=   0.0s\n",
            "[CV 7/10] END criterion=gini, max_leaf_nodes=2048;, score=0.805 total time=   0.0s\n",
            "[CV 8/10] END criterion=gini, max_leaf_nodes=2048;, score=0.810 total time=   0.0s\n",
            "[CV 9/10] END criterion=gini, max_leaf_nodes=2048;, score=0.783 total time=   0.0s\n",
            "[CV 10/10] END criterion=gini, max_leaf_nodes=2048;, score=0.828 total time=   0.0s\n",
            "[CV 1/10] END criterion=entropy, max_leaf_nodes=4;, score=0.756 total time=   0.0s\n",
            "[CV 2/10] END criterion=entropy, max_leaf_nodes=4;, score=0.731 total time=   0.0s\n",
            "[CV 3/10] END criterion=entropy, max_leaf_nodes=4;, score=0.756 total time=   0.0s\n",
            "[CV 4/10] END criterion=entropy, max_leaf_nodes=4;, score=0.757 total time=   0.0s\n",
            "[CV 5/10] END criterion=entropy, max_leaf_nodes=4;, score=0.762 total time=   0.0s\n",
            "[CV 6/10] END criterion=entropy, max_leaf_nodes=4;, score=0.735 total time=   0.0s\n",
            "[CV 7/10] END criterion=entropy, max_leaf_nodes=4;, score=0.715 total time=   0.0s\n",
            "[CV 8/10] END criterion=entropy, max_leaf_nodes=4;, score=0.726 total time=   0.0s\n",
            "[CV 9/10] END criterion=entropy, max_leaf_nodes=4;, score=0.730 total time=   0.0s\n",
            "[CV 10/10] END criterion=entropy, max_leaf_nodes=4;, score=0.755 total time=   0.0s\n",
            "[CV 1/10] END criterion=entropy, max_leaf_nodes=8;, score=0.818 total time=   0.0s\n",
            "[CV 2/10] END criterion=entropy, max_leaf_nodes=8;, score=0.790 total time=   0.0s\n",
            "[CV 3/10] END criterion=entropy, max_leaf_nodes=8;, score=0.830 total time=   0.0s\n",
            "[CV 4/10] END criterion=entropy, max_leaf_nodes=8;, score=0.833 total time=   0.0s\n",
            "[CV 5/10] END criterion=entropy, max_leaf_nodes=8;, score=0.817 total time=   0.0s\n",
            "[CV 6/10] END criterion=entropy, max_leaf_nodes=8;, score=0.803 total time=   0.0s\n",
            "[CV 7/10] END criterion=entropy, max_leaf_nodes=8;, score=0.798 total time=   0.0s\n",
            "[CV 8/10] END criterion=entropy, max_leaf_nodes=8;, score=0.805 total time=   0.0s\n",
            "[CV 9/10] END criterion=entropy, max_leaf_nodes=8;, score=0.781 total time=   0.0s\n",
            "[CV 10/10] END criterion=entropy, max_leaf_nodes=8;, score=0.814 total time=   0.0s\n",
            "[CV 1/10] END criterion=entropy, max_leaf_nodes=16;, score=0.828 total time=   0.0s\n",
            "[CV 2/10] END criterion=entropy, max_leaf_nodes=16;, score=0.806 total time=   0.0s\n",
            "[CV 3/10] END criterion=entropy, max_leaf_nodes=16;, score=0.843 total time=   0.0s\n",
            "[CV 4/10] END criterion=entropy, max_leaf_nodes=16;, score=0.861 total time=   0.0s\n",
            "[CV 5/10] END criterion=entropy, max_leaf_nodes=16;, score=0.835 total time=   0.0s\n",
            "[CV 6/10] END criterion=entropy, max_leaf_nodes=16;, score=0.822 total time=   0.0s\n",
            "[CV 7/10] END criterion=entropy, max_leaf_nodes=16;, score=0.806 total time=   0.0s\n",
            "[CV 8/10] END criterion=entropy, max_leaf_nodes=16;, score=0.827 total time=   0.0s\n",
            "[CV 9/10] END criterion=entropy, max_leaf_nodes=16;, score=0.799 total time=   0.0s\n",
            "[CV 10/10] END criterion=entropy, max_leaf_nodes=16;, score=0.831 total time=   0.0s\n",
            "[CV 1/10] END criterion=entropy, max_leaf_nodes=32;, score=0.828 total time=   0.0s\n",
            "[CV 2/10] END criterion=entropy, max_leaf_nodes=32;, score=0.806 total time=   0.0s\n",
            "[CV 3/10] END criterion=entropy, max_leaf_nodes=32;, score=0.849 total time=   0.0s\n",
            "[CV 4/10] END criterion=entropy, max_leaf_nodes=32;, score=0.850 total time=   0.0s\n",
            "[CV 5/10] END criterion=entropy, max_leaf_nodes=32;, score=0.839 total time=   0.0s\n",
            "[CV 6/10] END criterion=entropy, max_leaf_nodes=32;, score=0.821 total time=   0.0s\n",
            "[CV 7/10] END criterion=entropy, max_leaf_nodes=32;, score=0.810 total time=   0.0s\n",
            "[CV 8/10] END criterion=entropy, max_leaf_nodes=32;, score=0.831 total time=   0.0s\n",
            "[CV 9/10] END criterion=entropy, max_leaf_nodes=32;, score=0.802 total time=   0.0s\n",
            "[CV 10/10] END criterion=entropy, max_leaf_nodes=32;, score=0.839 total time=   0.0s\n",
            "[CV 1/10] END criterion=entropy, max_leaf_nodes=64;, score=0.825 total time=   0.0s\n",
            "[CV 2/10] END criterion=entropy, max_leaf_nodes=64;, score=0.803 total time=   0.0s\n",
            "[CV 3/10] END criterion=entropy, max_leaf_nodes=64;, score=0.852 total time=   0.0s\n",
            "[CV 4/10] END criterion=entropy, max_leaf_nodes=64;, score=0.849 total time=   0.0s\n",
            "[CV 5/10] END criterion=entropy, max_leaf_nodes=64;, score=0.846 total time=   0.0s\n",
            "[CV 6/10] END criterion=entropy, max_leaf_nodes=64;, score=0.798 total time=   0.0s\n",
            "[CV 7/10] END criterion=entropy, max_leaf_nodes=64;, score=0.810 total time=   0.0s\n",
            "[CV 8/10] END criterion=entropy, max_leaf_nodes=64;, score=0.827 total time=   0.0s\n",
            "[CV 9/10] END criterion=entropy, max_leaf_nodes=64;, score=0.795 total time=   0.0s\n",
            "[CV 10/10] END criterion=entropy, max_leaf_nodes=64;, score=0.838 total time=   0.0s\n",
            "[CV 1/10] END criterion=entropy, max_leaf_nodes=128;, score=0.811 total time=   0.0s\n",
            "[CV 2/10] END criterion=entropy, max_leaf_nodes=128;, score=0.796 total time=   0.0s\n",
            "[CV 3/10] END criterion=entropy, max_leaf_nodes=128;, score=0.834 total time=   0.0s\n",
            "[CV 4/10] END criterion=entropy, max_leaf_nodes=128;, score=0.833 total time=   0.0s\n",
            "[CV 5/10] END criterion=entropy, max_leaf_nodes=128;, score=0.826 total time=   0.0s\n",
            "[CV 6/10] END criterion=entropy, max_leaf_nodes=128;, score=0.781 total time=   0.0s\n",
            "[CV 7/10] END criterion=entropy, max_leaf_nodes=128;, score=0.812 total time=   0.0s\n",
            "[CV 8/10] END criterion=entropy, max_leaf_nodes=128;, score=0.824 total time=   0.0s\n",
            "[CV 9/10] END criterion=entropy, max_leaf_nodes=128;, score=0.802 total time=   0.0s\n",
            "[CV 10/10] END criterion=entropy, max_leaf_nodes=128;, score=0.829 total time=   0.0s\n",
            "[CV 1/10] END criterion=entropy, max_leaf_nodes=256;, score=0.808 total time=   0.0s\n",
            "[CV 2/10] END criterion=entropy, max_leaf_nodes=256;, score=0.794 total time=   0.0s\n",
            "[CV 3/10] END criterion=entropy, max_leaf_nodes=256;, score=0.830 total time=   0.0s\n",
            "[CV 4/10] END criterion=entropy, max_leaf_nodes=256;, score=0.832 total time=   0.0s\n",
            "[CV 5/10] END criterion=entropy, max_leaf_nodes=256;, score=0.818 total time=   0.0s\n",
            "[CV 6/10] END criterion=entropy, max_leaf_nodes=256;, score=0.773 total time=   0.0s\n",
            "[CV 7/10] END criterion=entropy, max_leaf_nodes=256;, score=0.805 total time=   0.0s\n",
            "[CV 8/10] END criterion=entropy, max_leaf_nodes=256;, score=0.823 total time=   0.0s\n",
            "[CV 9/10] END criterion=entropy, max_leaf_nodes=256;, score=0.783 total time=   0.0s\n",
            "[CV 10/10] END criterion=entropy, max_leaf_nodes=256;, score=0.828 total time=   0.0s\n",
            "[CV 1/10] END criterion=entropy, max_leaf_nodes=512;, score=0.808 total time=   0.0s\n",
            "[CV 2/10] END criterion=entropy, max_leaf_nodes=512;, score=0.794 total time=   0.0s\n",
            "[CV 3/10] END criterion=entropy, max_leaf_nodes=512;, score=0.830 total time=   0.0s\n",
            "[CV 4/10] END criterion=entropy, max_leaf_nodes=512;, score=0.832 total time=   0.0s\n",
            "[CV 5/10] END criterion=entropy, max_leaf_nodes=512;, score=0.818 total time=   0.0s\n",
            "[CV 6/10] END criterion=entropy, max_leaf_nodes=512;, score=0.773 total time=   0.0s\n",
            "[CV 7/10] END criterion=entropy, max_leaf_nodes=512;, score=0.805 total time=   0.0s\n",
            "[CV 8/10] END criterion=entropy, max_leaf_nodes=512;, score=0.823 total time=   0.0s\n",
            "[CV 9/10] END criterion=entropy, max_leaf_nodes=512;, score=0.783 total time=   0.0s\n",
            "[CV 10/10] END criterion=entropy, max_leaf_nodes=512;, score=0.828 total time=   0.0s\n",
            "[CV 1/10] END criterion=entropy, max_leaf_nodes=1024;, score=0.808 total time=   0.0s\n",
            "[CV 2/10] END criterion=entropy, max_leaf_nodes=1024;, score=0.794 total time=   0.0s\n",
            "[CV 3/10] END criterion=entropy, max_leaf_nodes=1024;, score=0.830 total time=   0.0s\n",
            "[CV 4/10] END criterion=entropy, max_leaf_nodes=1024;, score=0.832 total time=   0.0s\n",
            "[CV 5/10] END criterion=entropy, max_leaf_nodes=1024;, score=0.818 total time=   0.0s\n",
            "[CV 6/10] END criterion=entropy, max_leaf_nodes=1024;, score=0.773 total time=   0.0s\n",
            "[CV 7/10] END criterion=entropy, max_leaf_nodes=1024;, score=0.805 total time=   0.0s\n",
            "[CV 8/10] END criterion=entropy, max_leaf_nodes=1024;, score=0.823 total time=   0.0s\n",
            "[CV 9/10] END criterion=entropy, max_leaf_nodes=1024;, score=0.783 total time=   0.0s\n",
            "[CV 10/10] END criterion=entropy, max_leaf_nodes=1024;, score=0.828 total time=   0.0s\n",
            "[CV 1/10] END criterion=entropy, max_leaf_nodes=2048;, score=0.808 total time=   0.0s\n",
            "[CV 2/10] END criterion=entropy, max_leaf_nodes=2048;, score=0.794 total time=   0.0s\n",
            "[CV 3/10] END criterion=entropy, max_leaf_nodes=2048;, score=0.830 total time=   0.0s\n",
            "[CV 4/10] END criterion=entropy, max_leaf_nodes=2048;, score=0.832 total time=   0.0s\n",
            "[CV 5/10] END criterion=entropy, max_leaf_nodes=2048;, score=0.818 total time=   0.0s\n",
            "[CV 6/10] END criterion=entropy, max_leaf_nodes=2048;, score=0.773 total time=   0.0s\n",
            "[CV 7/10] END criterion=entropy, max_leaf_nodes=2048;, score=0.805 total time=   0.0s\n",
            "[CV 8/10] END criterion=entropy, max_leaf_nodes=2048;, score=0.823 total time=   0.0s\n",
            "[CV 9/10] END criterion=entropy, max_leaf_nodes=2048;, score=0.783 total time=   0.0s\n",
            "[CV 10/10] END criterion=entropy, max_leaf_nodes=2048;, score=0.828 total time=   0.0s\n"
          ]
        },
        {
          "output_type": "execute_result",
          "data": {
            "text/plain": [
              "GridSearchCV(cv=10, estimator=DecisionTreeClassifier(random_state=61658),\n",
              "             param_grid={'criterion': ['gini', 'entropy'],\n",
              "                         'max_leaf_nodes': [4, 8, 16, 32, 64, 128, 256, 512,\n",
              "                                            1024, 2048]},\n",
              "             scoring='roc_auc', verbose=5)"
            ]
          },
          "metadata": {},
          "execution_count": 32
        }
      ]
    },
    {
      "cell_type": "markdown",
      "source": [
        "# ***Qual foi o melhor parâmetro ou modelo***"
      ],
      "metadata": {
        "id": "QSzawsHDxTuL"
      }
    },
    {
      "cell_type": "code",
      "source": [
        "grid.best_params_"
      ],
      "metadata": {
        "colab": {
          "base_uri": "https://localhost:8080/"
        },
        "id": "pr1rEnFkxHil",
        "outputId": "9bfcbecd-bb44-4b97-e213-639c5430efdb"
      },
      "execution_count": 33,
      "outputs": [
        {
          "output_type": "execute_result",
          "data": {
            "text/plain": [
              "{'criterion': 'entropy', 'max_leaf_nodes': 32}"
            ]
          },
          "metadata": {},
          "execution_count": 33
        }
      ]
    },
    {
      "cell_type": "markdown",
      "source": [
        "# ***Qual foi o melhor Score***"
      ],
      "metadata": {
        "id": "uaIcYngzxdhU"
      }
    },
    {
      "cell_type": "code",
      "source": [
        "grid.best_score_"
      ],
      "metadata": {
        "colab": {
          "base_uri": "https://localhost:8080/"
        },
        "id": "F783tMDlxjgl",
        "outputId": "d246bd5a-13a9-4733-cd8f-28cfacb97852"
      },
      "execution_count": 34,
      "outputs": [
        {
          "output_type": "execute_result",
          "data": {
            "text/plain": [
              "0.8275774006882053"
            ]
          },
          "metadata": {},
          "execution_count": 34
        }
      ]
    },
    {
      "cell_type": "markdown",
      "source": [
        "# ***Vamos Usar o Modelo no Conjunto de Teste***"
      ],
      "metadata": {
        "id": "ud4FqxLJxzpQ"
      }
    },
    {
      "cell_type": "code",
      "source": [
        "y_pred = grid.predict_proba(x_teste)[:, 1]\n",
        "y_pred"
      ],
      "metadata": {
        "colab": {
          "base_uri": "https://localhost:8080/"
        },
        "id": "_jPP0RJ9x65k",
        "outputId": "fc845543-f649-406a-921a-8277102964ca"
      },
      "execution_count": 35,
      "outputs": [
        {
          "output_type": "execute_result",
          "data": {
            "text/plain": [
              "array([0.07399577, 0.13777778, 0.03446502, ..., 0.13544018, 0.03446502,\n",
              "       0.03446502])"
            ]
          },
          "metadata": {},
          "execution_count": 35
        }
      ]
    },
    {
      "cell_type": "markdown",
      "source": [
        "# ***Curva Roc***"
      ],
      "metadata": {
        "id": "fkGDFi4ZyfyO"
      }
    },
    {
      "cell_type": "code",
      "source": [
        "from sklearn.metrics import roc_curve\n",
        "fpr, tpr, ths = roc_curve(y_teste, y_pred)\n",
        "plt.figure(figsize= (8,8))\n",
        "plt.plot(fpr, tpr)\n",
        "plt.plot((0,1), (0,1), 'k--')"
      ],
      "metadata": {
        "colab": {
          "base_uri": "https://localhost:8080/",
          "height": 500
        },
        "id": "OV20zhYLyjUs",
        "outputId": "696d263a-1e4f-4315-9b67-902b2394a198"
      },
      "execution_count": 38,
      "outputs": [
        {
          "output_type": "execute_result",
          "data": {
            "text/plain": [
              "[<matplotlib.lines.Line2D at 0x7f68dbc94550>]"
            ]
          },
          "metadata": {},
          "execution_count": 38
        },
        {
          "output_type": "display_data",
          "data": {
            "text/plain": [
              "<Figure size 576x576 with 1 Axes>"
            ],
            "image/png": "[encoded data removed]"
          },
          "metadata": {
            "needs_background": "light"
          }
        }
      ]
    }
  ]
}