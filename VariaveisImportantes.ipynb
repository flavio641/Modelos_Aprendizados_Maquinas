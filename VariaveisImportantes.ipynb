{
  "nbformat": 4,
  "nbformat_minor": 0,
  "metadata": {
    "colab": {
      "provenance": [],
      "authorship_tag": "ABX9TyNQZB5DS8ubWJJdjA6eZ5UQ",
      "include_colab_link": true
    },
    "kernelspec": {
      "name": "python3",
      "display_name": "Python 3"
    },
    "language_info": {
      "name": "python"
    }
  },
  "cells": [
    {
      "cell_type": "markdown",
      "metadata": {
        "id": "view-in-github",
        "colab_type": "text"
      },
      "source": [
        "<a href=\"https://colab.research.google.com/github/flavio641/Modelos_Aprendizados_Maquinas/blob/main/VariaveisImportantes.ipynb\" target=\"_parent\"><img src=\"https://colab.research.google.com/assets/colab-badge.svg\" alt=\"Open In Colab\"/></a>"
      ]
    },
    {
      "cell_type": "code",
      "execution_count": 1,
      "metadata": {
        "id": "itT4t6h84CQ2"
      },
      "outputs": [],
      "source": [
        "import pandas as pd\n",
        "import numpy as np \n",
        "import matplotlib.pyplot as plt\n"
      ]
    },
    {
      "cell_type": "code",
      "source": [
        "df = pd.read_csv('/content/feat_imp.csv')\n",
        "df"
      ],
      "metadata": {
        "colab": {
          "base_uri": "https://localhost:8080/",
          "height": 488
        },
        "id": "g07en9KS4dHw",
        "outputId": "f550774b-4469-411e-e9ef-11b9cc6fc316"
      },
      "execution_count": 2,
      "outputs": [
        {
          "output_type": "execute_result",
          "data": {
            "text/plain": [
              "      CreditScore  Age  Tenure    Balance  NumOfProducts  HasCrCard  \\\n",
              "0             619   42       2       0.00              1          1   \n",
              "1             608   41       1   83807.86              1          0   \n",
              "2             502   42       8  159660.80              3          1   \n",
              "3             699   39       1       0.00              2          0   \n",
              "4             850   43       2  125510.82              1          1   \n",
              "...           ...  ...     ...        ...            ...        ...   \n",
              "9995          771   39       5       0.00              2          1   \n",
              "9996          516   35      10   57369.61              1          1   \n",
              "9997          709   36       7       0.00              1          0   \n",
              "9998          772   42       3   75075.31              2          1   \n",
              "9999          792   28       4  130142.79              1          1   \n",
              "\n",
              "      IsActiveMember  EstimatedSalary  Geography_France  Geography_Germany  \\\n",
              "0                  1        101348.88                 1                  0   \n",
              "1                  1        112542.58                 0                  0   \n",
              "2                  0        113931.57                 1                  0   \n",
              "3                  0         93826.63                 1                  0   \n",
              "4                  1         79084.10                 0                  0   \n",
              "...              ...              ...               ...                ...   \n",
              "9995               0         96270.64                 1                  0   \n",
              "9996               1        101699.77                 1                  0   \n",
              "9997               1         42085.58                 1                  0   \n",
              "9998               0         92888.52                 0                  1   \n",
              "9999               0         38190.78                 1                  0   \n",
              "\n",
              "      Geography_Spain  Gender_Female  Gender_Male  Exited  \n",
              "0                   0              1            0       1  \n",
              "1                   1              1            0       0  \n",
              "2                   0              1            0       1  \n",
              "3                   0              1            0       0  \n",
              "4                   1              1            0       0  \n",
              "...               ...            ...          ...     ...  \n",
              "9995                0              0            1       0  \n",
              "9996                0              0            1       0  \n",
              "9997                0              1            0       1  \n",
              "9998                0              0            1       1  \n",
              "9999                0              1            0       0  \n",
              "\n",
              "[10000 rows x 14 columns]"
            ],
            "text/html": [
              "\n",
              "  <div id=\"df-bad1c15c-14a8-4af6-bb35-0fc12a4bd496\">\n",
              "    <div class=\"colab-df-container\">\n",
              "      <div>\n",
              "<style scoped>\n",
              "    .dataframe tbody tr th:only-of-type {\n",
              "        vertical-align: middle;\n",
              "    }\n",
              "\n",
              "    .dataframe tbody tr th {\n",
              "        vertical-align: top;\n",
              "    }\n",
              "\n",
              "    .dataframe thead th {\n",
              "        text-align: right;\n",
              "    }\n",
              "</style>\n",
              "<table border=\"1\" class=\"dataframe\">\n",
              "  <thead>\n",
              "    <tr style=\"text-align: right;\">\n",
              "      <th></th>\n",
              "      <th>CreditScore</th>\n",
              "      <th>Age</th>\n",
              "      <th>Tenure</th>\n",
              "      <th>Balance</th>\n",
              "      <th>NumOfProducts</th>\n",
              "      <th>HasCrCard</th>\n",
              "      <th>IsActiveMember</th>\n",
              "      <th>EstimatedSalary</th>\n",
              "      <th>Geography_France</th>\n",
              "      <th>Geography_Germany</th>\n",
              "      <th>Geography_Spain</th>\n",
              "      <th>Gender_Female</th>\n",
              "      <th>Gender_Male</th>\n",
              "      <th>Exited</th>\n",
              "    </tr>\n",
              "  </thead>\n",
              "  <tbody>\n",
              "    <tr>\n",
              "      <th>0</th>\n",
              "      <td>619</td>\n",
              "      <td>42</td>\n",
              "      <td>2</td>\n",
              "      <td>0.00</td>\n",
              "      <td>1</td>\n",
              "      <td>1</td>\n",
              "      <td>1</td>\n",
              "      <td>101348.88</td>\n",
              "      <td>1</td>\n",
              "      <td>0</td>\n",
              "      <td>0</td>\n",
              "      <td>1</td>\n",
              "      <td>0</td>\n",
              "      <td>1</td>\n",
              "    </tr>\n",
              "    <tr>\n",
              "      <th>1</th>\n",
              "      <td>608</td>\n",
              "      <td>41</td>\n",
              "      <td>1</td>\n",
              "      <td>83807.86</td>\n",
              "      <td>1</td>\n",
              "      <td>0</td>\n",
              "      <td>1</td>\n",
              "      <td>112542.58</td>\n",
              "      <td>0</td>\n",
              "      <td>0</td>\n",
              "      <td>1</td>\n",
              "      <td>1</td>\n",
              "      <td>0</td>\n",
              "      <td>0</td>\n",
              "    </tr>\n",
              "    <tr>\n",
              "      <th>2</th>\n",
              "      <td>502</td>\n",
              "      <td>42</td>\n",
              "      <td>8</td>\n",
              "      <td>159660.80</td>\n",
              "      <td>3</td>\n",
              "      <td>1</td>\n",
              "      <td>0</td>\n",
              "      <td>113931.57</td>\n",
              "      <td>1</td>\n",
              "      <td>0</td>\n",
              "      <td>0</td>\n",
              "      <td>1</td>\n",
              "      <td>0</td>\n",
              "      <td>1</td>\n",
              "    </tr>\n",
              "    <tr>\n",
              "      <th>3</th>\n",
              "      <td>699</td>\n",
              "      <td>39</td>\n",
              "      <td>1</td>\n",
              "      <td>0.00</td>\n",
              "      <td>2</td>\n",
              "      <td>0</td>\n",
              "      <td>0</td>\n",
              "      <td>93826.63</td>\n",
              "      <td>1</td>\n",
              "      <td>0</td>\n",
              "      <td>0</td>\n",
              "      <td>1</td>\n",
              "      <td>0</td>\n",
              "      <td>0</td>\n",
              "    </tr>\n",
              "    <tr>\n",
              "      <th>4</th>\n",
              "      <td>850</td>\n",
              "      <td>43</td>\n",
              "      <td>2</td>\n",
              "      <td>125510.82</td>\n",
              "      <td>1</td>\n",
              "      <td>1</td>\n",
              "      <td>1</td>\n",
              "      <td>79084.10</td>\n",
              "      <td>0</td>\n",
              "      <td>0</td>\n",
              "      <td>1</td>\n",
              "      <td>1</td>\n",
              "      <td>0</td>\n",
              "      <td>0</td>\n",
              "    </tr>\n",
              "    <tr>\n",
              "      <th>...</th>\n",
              "      <td>...</td>\n",
              "      <td>...</td>\n",
              "      <td>...</td>\n",
              "      <td>...</td>\n",
              "      <td>...</td>\n",
              "      <td>...</td>\n",
              "      <td>...</td>\n",
              "      <td>...</td>\n",
              "      <td>...</td>\n",
              "      <td>...</td>\n",
              "      <td>...</td>\n",
              "      <td>...</td>\n",
              "      <td>...</td>\n",
              "      <td>...</td>\n",
              "    </tr>\n",
              "    <tr>\n",
              "      <th>9995</th>\n",
              "      <td>771</td>\n",
              "      <td>39</td>\n",
              "      <td>5</td>\n",
              "      <td>0.00</td>\n",
              "      <td>2</td>\n",
              "      <td>1</td>\n",
              "      <td>0</td>\n",
              "      <td>96270.64</td>\n",
              "      <td>1</td>\n",
              "      <td>0</td>\n",
              "      <td>0</td>\n",
              "      <td>0</td>\n",
              "      <td>1</td>\n",
              "      <td>0</td>\n",
              "    </tr>\n",
              "    <tr>\n",
              "      <th>9996</th>\n",
              "      <td>516</td>\n",
              "      <td>35</td>\n",
              "      <td>10</td>\n",
              "      <td>57369.61</td>\n",
              "      <td>1</td>\n",
              "      <td>1</td>\n",
              "      <td>1</td>\n",
              "      <td>101699.77</td>\n",
              "      <td>1</td>\n",
              "      <td>0</td>\n",
              "      <td>0</td>\n",
              "      <td>0</td>\n",
              "      <td>1</td>\n",
              "      <td>0</td>\n",
              "    </tr>\n",
              "    <tr>\n",
              "      <th>9997</th>\n",
              "      <td>709</td>\n",
              "      <td>36</td>\n",
              "      <td>7</td>\n",
              "      <td>0.00</td>\n",
              "      <td>1</td>\n",
              "      <td>0</td>\n",
              "      <td>1</td>\n",
              "      <td>42085.58</td>\n",
              "      <td>1</td>\n",
              "      <td>0</td>\n",
              "      <td>0</td>\n",
              "      <td>1</td>\n",
              "      <td>0</td>\n",
              "      <td>1</td>\n",
              "    </tr>\n",
              "    <tr>\n",
              "      <th>9998</th>\n",
              "      <td>772</td>\n",
              "      <td>42</td>\n",
              "      <td>3</td>\n",
              "      <td>75075.31</td>\n",
              "      <td>2</td>\n",
              "      <td>1</td>\n",
              "      <td>0</td>\n",
              "      <td>92888.52</td>\n",
              "      <td>0</td>\n",
              "      <td>1</td>\n",
              "      <td>0</td>\n",
              "      <td>0</td>\n",
              "      <td>1</td>\n",
              "      <td>1</td>\n",
              "    </tr>\n",
              "    <tr>\n",
              "      <th>9999</th>\n",
              "      <td>792</td>\n",
              "      <td>28</td>\n",
              "      <td>4</td>\n",
              "      <td>130142.79</td>\n",
              "      <td>1</td>\n",
              "      <td>1</td>\n",
              "      <td>0</td>\n",
              "      <td>38190.78</td>\n",
              "      <td>1</td>\n",
              "      <td>0</td>\n",
              "      <td>0</td>\n",
              "      <td>1</td>\n",
              "      <td>0</td>\n",
              "      <td>0</td>\n",
              "    </tr>\n",
              "  </tbody>\n",
              "</table>\n",
              "<p>10000 rows × 14 columns</p>\n",
              "</div>\n",
              "      <button class=\"colab-df-convert\" onclick=\"convertToInteractive('df-bad1c15c-14a8-4af6-bb35-0fc12a4bd496')\"\n",
              "              title=\"Convert this dataframe to an interactive table.\"\n",
              "              style=\"display:none;\">\n",
              "        \n",
              "  <svg xmlns=\"http://www.w3.org/2000/svg\" height=\"24px\"viewBox=\"0 0 24 24\"\n",
              "       width=\"24px\">\n",
              "    <path d=\"M0 0h24v24H0V0z\" fill=\"none\"/>\n",
              "    <path d=\"M18.56 5.44l.94 2.06.94-2.06 2.06-.94-2.06-.94-.94-2.06-.94 2.06-2.06.94zm-11 1L8.5 8.5l.94-2.06 2.06-.94-2.06-.94L8.5 2.5l-.94 2.06-2.06.94zm10 10l.94 2.06.94-2.06 2.06-.94-2.06-.94-.94-2.06-.94 2.06-2.06.94z\"/><path d=\"M17.41 7.96l-1.37-1.37c-.4-.4-.92-.59-1.43-.59-.52 0-1.04.2-1.43.59L10.3 9.45l-7.72 7.72c-.78.78-.78 2.05 0 2.83L4 21.41c.39.39.9.59 1.41.59.51 0 1.02-.2 1.41-.59l7.78-7.78 2.81-2.81c.8-.78.8-2.07 0-2.86zM5.41 20L4 18.59l7.72-7.72 1.47 1.35L5.41 20z\"/>\n",
              "  </svg>\n",
              "      </button>\n",
              "      \n",
              "  <style>\n",
              "    .colab-df-container {\n",
              "      display:flex;\n",
              "      flex-wrap:wrap;\n",
              "      gap: 12px;\n",
              "    }\n",
              "\n",
              "    .colab-df-convert {\n",
              "      background-color: #E8F0FE;\n",
              "      border: none;\n",
              "      border-radius: 50%;\n",
              "      cursor: pointer;\n",
              "      display: none;\n",
              "      fill: #1967D2;\n",
              "      height: 32px;\n",
              "      padding: 0 0 0 0;\n",
              "      width: 32px;\n",
              "    }\n",
              "\n",
              "    .colab-df-convert:hover {\n",
              "      background-color: #E2EBFA;\n",
              "      box-shadow: 0px 1px 2px rgba(60, 64, 67, 0.3), 0px 1px 3px 1px rgba(60, 64, 67, 0.15);\n",
              "      fill: #174EA6;\n",
              "    }\n",
              "\n",
              "    [theme=dark] .colab-df-convert {\n",
              "      background-color: #3B4455;\n",
              "      fill: #D2E3FC;\n",
              "    }\n",
              "\n",
              "    [theme=dark] .colab-df-convert:hover {\n",
              "      background-color: #434B5C;\n",
              "      box-shadow: 0px 1px 3px 1px rgba(0, 0, 0, 0.15);\n",
              "      filter: drop-shadow(0px 1px 2px rgba(0, 0, 0, 0.3));\n",
              "      fill: #FFFFFF;\n",
              "    }\n",
              "  </style>\n",
              "\n",
              "      <script>\n",
              "        const buttonEl =\n",
              "          document.querySelector('#df-bad1c15c-14a8-4af6-bb35-0fc12a4bd496 button.colab-df-convert');\n",
              "        buttonEl.style.display =\n",
              "          google.colab.kernel.accessAllowed ? 'block' : 'none';\n",
              "\n",
              "        async function convertToInteractive(key) {\n",
              "          const element = document.querySelector('#df-bad1c15c-14a8-4af6-bb35-0fc12a4bd496');\n",
              "          const dataTable =\n",
              "            await google.colab.kernel.invokeFunction('convertToInteractive',\n",
              "                                                     [key], {});\n",
              "          if (!dataTable) return;\n",
              "\n",
              "          const docLinkHtml = 'Like what you see? Visit the ' +\n",
              "            '<a target=\"_blank\" href=https://colab.research.google.com/notebooks/data_table.ipynb>data table notebook</a>'\n",
              "            + ' to learn more about interactive tables.';\n",
              "          element.innerHTML = '';\n",
              "          dataTable['output_type'] = 'display_data';\n",
              "          await google.colab.output.renderOutput(dataTable, element);\n",
              "          const docLink = document.createElement('div');\n",
              "          docLink.innerHTML = docLinkHtml;\n",
              "          element.appendChild(docLink);\n",
              "        }\n",
              "      </script>\n",
              "    </div>\n",
              "  </div>\n",
              "  "
            ]
          },
          "metadata": {},
          "execution_count": 2
        }
      ]
    },
    {
      "cell_type": "markdown",
      "source": [
        "# ***Separação da variáveis preditivas e variável resposta***"
      ],
      "metadata": {
        "id": "JvBRsDBd44MI"
      }
    },
    {
      "cell_type": "code",
      "source": [
        "X = df.drop('Exited', axis= 1)\n",
        "y = df.Exited"
      ],
      "metadata": {
        "id": "22PSzkvH5DQ3"
      },
      "execution_count": 3,
      "outputs": []
    },
    {
      "cell_type": "code",
      "source": [
        "from sklearn.model_selection import train_test_split\n",
        "x_treino, x_teste, y_treino, y_teste = train_test_split(X,y, test_size = 0.3, random_state = 61658)"
      ],
      "metadata": {
        "id": "HyiUWFqm5bJt"
      },
      "execution_count": 4,
      "outputs": []
    },
    {
      "cell_type": "markdown",
      "source": [
        "# ***Definição dos Parâmetros Validação Cruzada***"
      ],
      "metadata": {
        "id": "k23e7Ut46BG4"
      }
    },
    {
      "cell_type": "code",
      "source": [
        "from sklearn.tree import DecisionTreeClassifier\n",
        "from sklearn.model_selection import GridSearchCV\n",
        "\n",
        "params = {\n",
        "    'max_leaf_nodes': [4,8,16,32,64,128,256,512,2014],\n",
        "    'criterion': ['gini', 'entropy']\n",
        "}\n",
        "\n",
        "grid = GridSearchCV(\n",
        "    DecisionTreeClassifier(random_state= 61658),\n",
        "    params,\n",
        "    cv= 10,\n",
        "    scoring = 'roc_auc',\n",
        "    verbose = 5\n",
        ")"
      ],
      "metadata": {
        "id": "rf_xSWXW6O2C"
      },
      "execution_count": 8,
      "outputs": []
    },
    {
      "cell_type": "code",
      "source": [
        "grid.fit(x_treino, y_treino)"
      ],
      "metadata": {
        "colab": {
          "base_uri": "https://localhost:8080/"
        },
        "id": "K3yM6lGI7w80",
        "outputId": "dcbc084a-a420-4be0-a11a-34a130f1ee56"
      },
      "execution_count": 10,
      "outputs": [
        {
          "output_type": "stream",
          "name": "stdout",
          "text": [
            "Fitting 10 folds for each of 18 candidates, totalling 180 fits\n",
            "[CV 1/10] END .criterion=gini, max_leaf_nodes=4;, score=0.756 total time=   0.0s\n",
            "[CV 2/10] END .criterion=gini, max_leaf_nodes=4;, score=0.731 total time=   0.0s\n",
            "[CV 3/10] END .criterion=gini, max_leaf_nodes=4;, score=0.756 total time=   0.0s\n",
            "[CV 4/10] END .criterion=gini, max_leaf_nodes=4;, score=0.757 total time=   0.0s\n",
            "[CV 5/10] END .criterion=gini, max_leaf_nodes=4;, score=0.762 total time=   0.0s\n",
            "[CV 6/10] END .criterion=gini, max_leaf_nodes=4;, score=0.738 total time=   0.0s\n",
            "[CV 7/10] END .criterion=gini, max_leaf_nodes=4;, score=0.715 total time=   0.0s\n",
            "[CV 8/10] END .criterion=gini, max_leaf_nodes=4;, score=0.726 total time=   0.0s\n",
            "[CV 9/10] END .criterion=gini, max_leaf_nodes=4;, score=0.730 total time=   0.0s\n",
            "[CV 10/10] END criterion=gini, max_leaf_nodes=4;, score=0.756 total time=   0.0s\n",
            "[CV 1/10] END .criterion=gini, max_leaf_nodes=8;, score=0.818 total time=   0.0s\n",
            "[CV 2/10] END .criterion=gini, max_leaf_nodes=8;, score=0.791 total time=   0.0s\n",
            "[CV 3/10] END .criterion=gini, max_leaf_nodes=8;, score=0.830 total time=   0.0s\n",
            "[CV 4/10] END .criterion=gini, max_leaf_nodes=8;, score=0.833 total time=   0.0s\n",
            "[CV 5/10] END .criterion=gini, max_leaf_nodes=8;, score=0.817 total time=   0.0s\n",
            "[CV 6/10] END .criterion=gini, max_leaf_nodes=8;, score=0.808 total time=   0.0s\n",
            "[CV 7/10] END .criterion=gini, max_leaf_nodes=8;, score=0.798 total time=   0.0s\n",
            "[CV 8/10] END .criterion=gini, max_leaf_nodes=8;, score=0.805 total time=   0.0s\n",
            "[CV 9/10] END .criterion=gini, max_leaf_nodes=8;, score=0.781 total time=   0.0s\n",
            "[CV 10/10] END criterion=gini, max_leaf_nodes=8;, score=0.817 total time=   0.0s\n",
            "[CV 1/10] END criterion=gini, max_leaf_nodes=16;, score=0.825 total time=   0.0s\n",
            "[CV 2/10] END criterion=gini, max_leaf_nodes=16;, score=0.819 total time=   0.0s\n",
            "[CV 3/10] END criterion=gini, max_leaf_nodes=16;, score=0.830 total time=   0.0s\n",
            "[CV 4/10] END criterion=gini, max_leaf_nodes=16;, score=0.857 total time=   0.0s\n",
            "[CV 5/10] END criterion=gini, max_leaf_nodes=16;, score=0.829 total time=   0.0s\n",
            "[CV 6/10] END criterion=gini, max_leaf_nodes=16;, score=0.832 total time=   0.0s\n",
            "[CV 7/10] END criterion=gini, max_leaf_nodes=16;, score=0.820 total time=   0.0s\n",
            "[CV 8/10] END criterion=gini, max_leaf_nodes=16;, score=0.822 total time=   0.0s\n",
            "[CV 9/10] END criterion=gini, max_leaf_nodes=16;, score=0.797 total time=   0.0s\n",
            "[CV 10/10] END criterion=gini, max_leaf_nodes=16;, score=0.832 total time=   0.0s\n",
            "[CV 1/10] END criterion=gini, max_leaf_nodes=32;, score=0.847 total time=   0.0s\n",
            "[CV 2/10] END criterion=gini, max_leaf_nodes=32;, score=0.838 total time=   0.0s\n",
            "[CV 3/10] END criterion=gini, max_leaf_nodes=32;, score=0.835 total time=   0.0s\n",
            "[CV 4/10] END criterion=gini, max_leaf_nodes=32;, score=0.883 total time=   0.0s\n",
            "[CV 5/10] END criterion=gini, max_leaf_nodes=32;, score=0.837 total time=   0.0s\n",
            "[CV 6/10] END criterion=gini, max_leaf_nodes=32;, score=0.843 total time=   0.0s\n",
            "[CV 7/10] END criterion=gini, max_leaf_nodes=32;, score=0.812 total time=   0.0s\n",
            "[CV 8/10] END criterion=gini, max_leaf_nodes=32;, score=0.847 total time=   0.0s\n",
            "[CV 9/10] END criterion=gini, max_leaf_nodes=32;, score=0.808 total time=   0.0s\n",
            "[CV 10/10] END criterion=gini, max_leaf_nodes=32;, score=0.841 total time=   0.0s\n",
            "[CV 1/10] END criterion=gini, max_leaf_nodes=64;, score=0.838 total time=   0.0s\n",
            "[CV 2/10] END criterion=gini, max_leaf_nodes=64;, score=0.829 total time=   0.0s\n",
            "[CV 3/10] END criterion=gini, max_leaf_nodes=64;, score=0.849 total time=   0.0s\n",
            "[CV 4/10] END criterion=gini, max_leaf_nodes=64;, score=0.881 total time=   0.0s\n",
            "[CV 5/10] END criterion=gini, max_leaf_nodes=64;, score=0.837 total time=   0.0s\n",
            "[CV 6/10] END criterion=gini, max_leaf_nodes=64;, score=0.844 total time=   0.0s\n",
            "[CV 7/10] END criterion=gini, max_leaf_nodes=64;, score=0.820 total time=   0.0s\n",
            "[CV 8/10] END criterion=gini, max_leaf_nodes=64;, score=0.812 total time=   0.0s\n",
            "[CV 9/10] END criterion=gini, max_leaf_nodes=64;, score=0.806 total time=   0.0s\n",
            "[CV 10/10] END criterion=gini, max_leaf_nodes=64;, score=0.850 total time=   0.0s\n",
            "[CV 1/10] END criterion=gini, max_leaf_nodes=128;, score=0.807 total time=   0.0s\n",
            "[CV 2/10] END criterion=gini, max_leaf_nodes=128;, score=0.788 total time=   0.0s\n",
            "[CV 3/10] END criterion=gini, max_leaf_nodes=128;, score=0.793 total time=   0.0s\n",
            "[CV 4/10] END criterion=gini, max_leaf_nodes=128;, score=0.858 total time=   0.0s\n",
            "[CV 5/10] END criterion=gini, max_leaf_nodes=128;, score=0.810 total time=   0.0s\n",
            "[CV 6/10] END criterion=gini, max_leaf_nodes=128;, score=0.826 total time=   0.0s\n",
            "[CV 7/10] END criterion=gini, max_leaf_nodes=128;, score=0.791 total time=   0.0s\n",
            "[CV 8/10] END criterion=gini, max_leaf_nodes=128;, score=0.796 total time=   0.0s\n",
            "[CV 9/10] END criterion=gini, max_leaf_nodes=128;, score=0.801 total time=   0.0s\n",
            "[CV 10/10] END criterion=gini, max_leaf_nodes=128;, score=0.842 total time=   0.0s\n",
            "[CV 1/10] END criterion=gini, max_leaf_nodes=256;, score=0.751 total time=   0.0s\n",
            "[CV 2/10] END criterion=gini, max_leaf_nodes=256;, score=0.727 total time=   0.0s\n",
            "[CV 3/10] END criterion=gini, max_leaf_nodes=256;, score=0.740 total time=   0.0s\n",
            "[CV 4/10] END criterion=gini, max_leaf_nodes=256;, score=0.802 total time=   0.0s\n",
            "[CV 5/10] END criterion=gini, max_leaf_nodes=256;, score=0.745 total time=   0.0s\n",
            "[CV 6/10] END criterion=gini, max_leaf_nodes=256;, score=0.743 total time=   0.0s\n",
            "[CV 7/10] END criterion=gini, max_leaf_nodes=256;, score=0.765 total time=   0.0s\n",
            "[CV 8/10] END criterion=gini, max_leaf_nodes=256;, score=0.731 total time=   0.0s\n",
            "[CV 9/10] END criterion=gini, max_leaf_nodes=256;, score=0.735 total time=   0.0s\n",
            "[CV 10/10] END criterion=gini, max_leaf_nodes=256;, score=0.793 total time=   0.0s\n",
            "[CV 1/10] END criterion=gini, max_leaf_nodes=512;, score=0.675 total time=   0.0s\n",
            "[CV 2/10] END criterion=gini, max_leaf_nodes=512;, score=0.658 total time=   0.0s\n",
            "[CV 3/10] END criterion=gini, max_leaf_nodes=512;, score=0.661 total time=   0.0s\n",
            "[CV 4/10] END criterion=gini, max_leaf_nodes=512;, score=0.729 total time=   0.0s\n",
            "[CV 5/10] END criterion=gini, max_leaf_nodes=512;, score=0.682 total time=   0.0s\n",
            "[CV 6/10] END criterion=gini, max_leaf_nodes=512;, score=0.678 total time=   0.0s\n",
            "[CV 7/10] END criterion=gini, max_leaf_nodes=512;, score=0.656 total time=   0.0s\n",
            "[CV 8/10] END criterion=gini, max_leaf_nodes=512;, score=0.683 total time=   0.0s\n",
            "[CV 9/10] END criterion=gini, max_leaf_nodes=512;, score=0.640 total time=   0.0s\n",
            "[CV 10/10] END criterion=gini, max_leaf_nodes=512;, score=0.707 total time=   0.0s\n",
            "[CV 1/10] END criterion=gini, max_leaf_nodes=2014;, score=0.702 total time=   0.0s\n",
            "[CV 2/10] END criterion=gini, max_leaf_nodes=2014;, score=0.682 total time=   0.0s\n",
            "[CV 3/10] END criterion=gini, max_leaf_nodes=2014;, score=0.692 total time=   0.0s\n",
            "[CV 4/10] END criterion=gini, max_leaf_nodes=2014;, score=0.724 total time=   0.0s\n",
            "[CV 5/10] END criterion=gini, max_leaf_nodes=2014;, score=0.697 total time=   0.0s\n",
            "[CV 6/10] END criterion=gini, max_leaf_nodes=2014;, score=0.664 total time=   0.0s\n",
            "[CV 7/10] END criterion=gini, max_leaf_nodes=2014;, score=0.688 total time=   0.0s\n",
            "[CV 8/10] END criterion=gini, max_leaf_nodes=2014;, score=0.684 total time=   0.0s\n",
            "[CV 9/10] END criterion=gini, max_leaf_nodes=2014;, score=0.679 total time=   0.0s\n",
            "[CV 10/10] END criterion=gini, max_leaf_nodes=2014;, score=0.719 total time=   0.0s\n",
            "[CV 1/10] END criterion=entropy, max_leaf_nodes=4;, score=0.756 total time=   0.0s\n",
            "[CV 2/10] END criterion=entropy, max_leaf_nodes=4;, score=0.731 total time=   0.0s\n",
            "[CV 3/10] END criterion=entropy, max_leaf_nodes=4;, score=0.756 total time=   0.0s\n",
            "[CV 4/10] END criterion=entropy, max_leaf_nodes=4;, score=0.757 total time=   0.0s\n",
            "[CV 5/10] END criterion=entropy, max_leaf_nodes=4;, score=0.762 total time=   0.0s\n",
            "[CV 6/10] END criterion=entropy, max_leaf_nodes=4;, score=0.735 total time=   0.0s\n",
            "[CV 7/10] END criterion=entropy, max_leaf_nodes=4;, score=0.715 total time=   0.0s\n",
            "[CV 8/10] END criterion=entropy, max_leaf_nodes=4;, score=0.726 total time=   0.0s\n",
            "[CV 9/10] END criterion=entropy, max_leaf_nodes=4;, score=0.730 total time=   0.0s\n",
            "[CV 10/10] END criterion=entropy, max_leaf_nodes=4;, score=0.755 total time=   0.0s\n",
            "[CV 1/10] END criterion=entropy, max_leaf_nodes=8;, score=0.818 total time=   0.0s\n",
            "[CV 2/10] END criterion=entropy, max_leaf_nodes=8;, score=0.790 total time=   0.0s\n",
            "[CV 3/10] END criterion=entropy, max_leaf_nodes=8;, score=0.830 total time=   0.0s\n",
            "[CV 4/10] END criterion=entropy, max_leaf_nodes=8;, score=0.833 total time=   0.0s\n",
            "[CV 5/10] END criterion=entropy, max_leaf_nodes=8;, score=0.817 total time=   0.0s\n",
            "[CV 6/10] END criterion=entropy, max_leaf_nodes=8;, score=0.803 total time=   0.0s\n",
            "[CV 7/10] END criterion=entropy, max_leaf_nodes=8;, score=0.798 total time=   0.0s\n",
            "[CV 8/10] END criterion=entropy, max_leaf_nodes=8;, score=0.805 total time=   0.0s\n",
            "[CV 9/10] END criterion=entropy, max_leaf_nodes=8;, score=0.781 total time=   0.0s\n",
            "[CV 10/10] END criterion=entropy, max_leaf_nodes=8;, score=0.814 total time=   0.0s\n",
            "[CV 1/10] END criterion=entropy, max_leaf_nodes=16;, score=0.826 total time=   0.0s\n",
            "[CV 2/10] END criterion=entropy, max_leaf_nodes=16;, score=0.833 total time=   0.0s\n",
            "[CV 3/10] END criterion=entropy, max_leaf_nodes=16;, score=0.832 total time=   0.0s\n",
            "[CV 4/10] END criterion=entropy, max_leaf_nodes=16;, score=0.861 total time=   0.0s\n",
            "[CV 5/10] END criterion=entropy, max_leaf_nodes=16;, score=0.831 total time=   0.0s\n",
            "[CV 6/10] END criterion=entropy, max_leaf_nodes=16;, score=0.836 total time=   0.0s\n",
            "[CV 7/10] END criterion=entropy, max_leaf_nodes=16;, score=0.817 total time=   0.0s\n",
            "[CV 8/10] END criterion=entropy, max_leaf_nodes=16;, score=0.838 total time=   0.0s\n",
            "[CV 9/10] END criterion=entropy, max_leaf_nodes=16;, score=0.822 total time=   0.0s\n",
            "[CV 10/10] END criterion=entropy, max_leaf_nodes=16;, score=0.841 total time=   0.0s\n",
            "[CV 1/10] END criterion=entropy, max_leaf_nodes=32;, score=0.846 total time=   0.0s\n",
            "[CV 2/10] END criterion=entropy, max_leaf_nodes=32;, score=0.843 total time=   0.0s\n",
            "[CV 3/10] END criterion=entropy, max_leaf_nodes=32;, score=0.858 total time=   0.0s\n",
            "[CV 4/10] END criterion=entropy, max_leaf_nodes=32;, score=0.888 total time=   0.0s\n",
            "[CV 5/10] END criterion=entropy, max_leaf_nodes=32;, score=0.840 total time=   0.0s\n",
            "[CV 6/10] END criterion=entropy, max_leaf_nodes=32;, score=0.838 total time=   0.0s\n",
            "[CV 7/10] END criterion=entropy, max_leaf_nodes=32;, score=0.823 total time=   0.0s\n",
            "[CV 8/10] END criterion=entropy, max_leaf_nodes=32;, score=0.850 total time=   0.0s\n",
            "[CV 9/10] END criterion=entropy, max_leaf_nodes=32;, score=0.818 total time=   0.0s\n",
            "[CV 10/10] END criterion=entropy, max_leaf_nodes=32;, score=0.843 total time=   0.0s\n",
            "[CV 1/10] END criterion=entropy, max_leaf_nodes=64;, score=0.837 total time=   0.0s\n",
            "[CV 2/10] END criterion=entropy, max_leaf_nodes=64;, score=0.821 total time=   0.0s\n",
            "[CV 3/10] END criterion=entropy, max_leaf_nodes=64;, score=0.839 total time=   0.0s\n",
            "[CV 4/10] END criterion=entropy, max_leaf_nodes=64;, score=0.862 total time=   0.0s\n",
            "[CV 5/10] END criterion=entropy, max_leaf_nodes=64;, score=0.853 total time=   0.0s\n",
            "[CV 6/10] END criterion=entropy, max_leaf_nodes=64;, score=0.838 total time=   0.0s\n",
            "[CV 7/10] END criterion=entropy, max_leaf_nodes=64;, score=0.828 total time=   0.0s\n",
            "[CV 8/10] END criterion=entropy, max_leaf_nodes=64;, score=0.828 total time=   0.0s\n",
            "[CV 9/10] END criterion=entropy, max_leaf_nodes=64;, score=0.822 total time=   0.0s\n",
            "[CV 10/10] END criterion=entropy, max_leaf_nodes=64;, score=0.842 total time=   0.0s\n",
            "[CV 1/10] END criterion=entropy, max_leaf_nodes=128;, score=0.819 total time=   0.0s\n",
            "[CV 2/10] END criterion=entropy, max_leaf_nodes=128;, score=0.770 total time=   0.0s\n",
            "[CV 3/10] END criterion=entropy, max_leaf_nodes=128;, score=0.820 total time=   0.0s\n",
            "[CV 4/10] END criterion=entropy, max_leaf_nodes=128;, score=0.826 total time=   0.0s\n",
            "[CV 5/10] END criterion=entropy, max_leaf_nodes=128;, score=0.841 total time=   0.0s\n",
            "[CV 6/10] END criterion=entropy, max_leaf_nodes=128;, score=0.816 total time=   0.0s\n",
            "[CV 7/10] END criterion=entropy, max_leaf_nodes=128;, score=0.823 total time=   0.1s\n",
            "[CV 8/10] END criterion=entropy, max_leaf_nodes=128;, score=0.800 total time=   0.1s\n",
            "[CV 9/10] END criterion=entropy, max_leaf_nodes=128;, score=0.792 total time=   0.0s\n",
            "[CV 10/10] END criterion=entropy, max_leaf_nodes=128;, score=0.798 total time=   0.0s\n",
            "[CV 1/10] END criterion=entropy, max_leaf_nodes=256;, score=0.759 total time=   0.0s\n",
            "[CV 2/10] END criterion=entropy, max_leaf_nodes=256;, score=0.760 total time=   0.0s\n",
            "[CV 3/10] END criterion=entropy, max_leaf_nodes=256;, score=0.763 total time=   0.0s\n",
            "[CV 4/10] END criterion=entropy, max_leaf_nodes=256;, score=0.802 total time=   0.0s\n",
            "[CV 5/10] END criterion=entropy, max_leaf_nodes=256;, score=0.792 total time=   0.0s\n",
            "[CV 6/10] END criterion=entropy, max_leaf_nodes=256;, score=0.748 total time=   0.0s\n",
            "[CV 7/10] END criterion=entropy, max_leaf_nodes=256;, score=0.783 total time=   0.1s\n",
            "[CV 8/10] END criterion=entropy, max_leaf_nodes=256;, score=0.726 total time=   0.1s\n",
            "[CV 9/10] END criterion=entropy, max_leaf_nodes=256;, score=0.751 total time=   0.0s\n",
            "[CV 10/10] END criterion=entropy, max_leaf_nodes=256;, score=0.767 total time=   0.1s\n",
            "[CV 1/10] END criterion=entropy, max_leaf_nodes=512;, score=0.710 total time=   0.0s\n",
            "[CV 2/10] END criterion=entropy, max_leaf_nodes=512;, score=0.737 total time=   0.1s\n",
            "[CV 3/10] END criterion=entropy, max_leaf_nodes=512;, score=0.705 total time=   0.1s\n",
            "[CV 4/10] END criterion=entropy, max_leaf_nodes=512;, score=0.706 total time=   0.1s\n",
            "[CV 5/10] END criterion=entropy, max_leaf_nodes=512;, score=0.722 total time=   0.1s\n",
            "[CV 6/10] END criterion=entropy, max_leaf_nodes=512;, score=0.672 total time=   0.1s\n",
            "[CV 7/10] END criterion=entropy, max_leaf_nodes=512;, score=0.723 total time=   0.1s\n",
            "[CV 8/10] END criterion=entropy, max_leaf_nodes=512;, score=0.711 total time=   0.1s\n",
            "[CV 9/10] END criterion=entropy, max_leaf_nodes=512;, score=0.702 total time=   0.1s\n",
            "[CV 10/10] END criterion=entropy, max_leaf_nodes=512;, score=0.721 total time=   0.1s\n",
            "[CV 1/10] END criterion=entropy, max_leaf_nodes=2014;, score=0.707 total time=   0.1s\n",
            "[CV 2/10] END criterion=entropy, max_leaf_nodes=2014;, score=0.708 total time=   0.1s\n",
            "[CV 3/10] END criterion=entropy, max_leaf_nodes=2014;, score=0.714 total time=   0.1s\n",
            "[CV 4/10] END criterion=entropy, max_leaf_nodes=2014;, score=0.684 total time=   0.1s\n",
            "[CV 5/10] END criterion=entropy, max_leaf_nodes=2014;, score=0.708 total time=   0.1s\n",
            "[CV 6/10] END criterion=entropy, max_leaf_nodes=2014;, score=0.678 total time=   0.1s\n",
            "[CV 7/10] END criterion=entropy, max_leaf_nodes=2014;, score=0.712 total time=   0.1s\n",
            "[CV 8/10] END criterion=entropy, max_leaf_nodes=2014;, score=0.689 total time=   0.1s\n",
            "[CV 9/10] END criterion=entropy, max_leaf_nodes=2014;, score=0.683 total time=   0.1s\n",
            "[CV 10/10] END criterion=entropy, max_leaf_nodes=2014;, score=0.715 total time=   0.1s\n"
          ]
        },
        {
          "output_type": "execute_result",
          "data": {
            "text/plain": [
              "GridSearchCV(cv=10, estimator=DecisionTreeClassifier(random_state=61658),\n",
              "             param_grid={'criterion': ['gini', 'entropy'],\n",
              "                         'max_leaf_nodes': [4, 8, 16, 32, 64, 128, 256, 512,\n",
              "                                            2014]},\n",
              "             scoring='roc_auc', verbose=5)"
            ]
          },
          "metadata": {},
          "execution_count": 10
        }
      ]
    },
    {
      "cell_type": "markdown",
      "source": [
        "# ***Qual foi o melhor parâmetro do modelo***"
      ],
      "metadata": {
        "id": "t-U2R-bO8BAk"
      }
    },
    {
      "cell_type": "code",
      "source": [
        "grid.best_params_"
      ],
      "metadata": {
        "colab": {
          "base_uri": "https://localhost:8080/"
        },
        "id": "Tm1Ygcnn8H4-",
        "outputId": "19823498-9d4e-4bca-916c-770fffa1ca67"
      },
      "execution_count": 11,
      "outputs": [
        {
          "output_type": "execute_result",
          "data": {
            "text/plain": [
              "{'criterion': 'entropy', 'max_leaf_nodes': 32}"
            ]
          },
          "metadata": {},
          "execution_count": 11
        }
      ]
    },
    {
      "cell_type": "code",
      "source": [
        "grid.best_score_  "
      ],
      "metadata": {
        "colab": {
          "base_uri": "https://localhost:8080/"
        },
        "id": "wQq_zpfM8Qe3",
        "outputId": "56bf821e-ad6a-4629-ebdc-2788c091f255"
      },
      "execution_count": 12,
      "outputs": [
        {
          "output_type": "execute_result",
          "data": {
            "text/plain": [
              "0.844584741625602"
            ]
          },
          "metadata": {},
          "execution_count": 12
        }
      ]
    },
    {
      "cell_type": "code",
      "source": [
        "y_pred = grid.predict_proba(x_teste)\n",
        "y_pred"
      ],
      "metadata": {
        "colab": {
          "base_uri": "https://localhost:8080/"
        },
        "id": "ygCPUFNx8nWy",
        "outputId": "7b320bb6-da65-44e9-f33b-eb0383559f3e"
      },
      "execution_count": 13,
      "outputs": [
        {
          "output_type": "execute_result",
          "data": {
            "text/plain": [
              "array([[0.97933001, 0.02066999],\n",
              "       [0.93684211, 0.06315789],\n",
              "       [0.92800789, 0.07199211],\n",
              "       ...,\n",
              "       [0.79723502, 0.20276498],\n",
              "       [0.97933001, 0.02066999],\n",
              "       [0.97933001, 0.02066999]])"
            ]
          },
          "metadata": {},
          "execution_count": 13
        }
      ]
    },
    {
      "cell_type": "code",
      "source": [
        "y_pred = y_pred[:,1]"
      ],
      "metadata": {
        "id": "MlKtSdFH-oAB"
      },
      "execution_count": 17,
      "outputs": []
    },
    {
      "cell_type": "code",
      "source": [
        "from sklearn.metrics import roc_auc_score\n",
        "roc_auc_score(y_teste, y_pred)\n"
      ],
      "metadata": {
        "colab": {
          "base_uri": "https://localhost:8080/"
        },
        "id": "y2SOo1Er9Aez",
        "outputId": "ffa0d6f7-b344-4c61-f533-6e8fc97fd8bf"
      },
      "execution_count": 18,
      "outputs": [
        {
          "output_type": "execute_result",
          "data": {
            "text/plain": [
              "0.8461416666666665"
            ]
          },
          "metadata": {},
          "execution_count": 18
        }
      ]
    },
    {
      "cell_type": "markdown",
      "source": [
        "# ***Verificar a Importância das Variáveis***"
      ],
      "metadata": {
        "id": "o29xw6gF_Ml8"
      }
    },
    {
      "cell_type": "code",
      "source": [
        "grid.best_estimator_"
      ],
      "metadata": {
        "colab": {
          "base_uri": "https://localhost:8080/"
        },
        "id": "ScalkDK__S08",
        "outputId": "2c7a320c-c676-4a75-eac5-f7dc1c882ce9"
      },
      "execution_count": 19,
      "outputs": [
        {
          "output_type": "execute_result",
          "data": {
            "text/plain": [
              "DecisionTreeClassifier(criterion='entropy', max_leaf_nodes=32,\n",
              "                       random_state=61658)"
            ]
          },
          "metadata": {},
          "execution_count": 19
        }
      ]
    },
    {
      "cell_type": "code",
      "source": [
        "grid.best_estimator_.feature_importances_"
      ],
      "metadata": {
        "colab": {
          "base_uri": "https://localhost:8080/"
        },
        "id": "HGn1-ZTs_e61",
        "outputId": "fa1ee9f5-62af-4cb5-e595-4f58190dcbde"
      },
      "execution_count": 20,
      "outputs": [
        {
          "output_type": "execute_result",
          "data": {
            "text/plain": [
              "array([0.        , 0.39756168, 0.        , 0.12983555, 0.30706264,\n",
              "       0.        , 0.11164571, 0.00618282, 0.        , 0.04771159,\n",
              "       0.        , 0.        , 0.        ])"
            ]
          },
          "metadata": {},
          "execution_count": 20
        }
      ]
    },
    {
      "cell_type": "code",
      "source": [
        "importancias = grid.best_estimator_.feature_importances_\n",
        "ordem = np.argsort(importancias)[::-1]\n",
        "colunas = X.columns\n",
        "\n",
        "for col, imp, in zip(colunas[ordem], importancias[ordem]):\n",
        "  print(col, imp)"
      ],
      "metadata": {
        "colab": {
          "base_uri": "https://localhost:8080/"
        },
        "id": "-ZXFQ4ji_7Ru",
        "outputId": "ed2830b9-3385-4cf0-8397-61d4ada15aa7"
      },
      "execution_count": 55,
      "outputs": [
        {
          "output_type": "stream",
          "name": "stdout",
          "text": [
            "Age 0.39756167881330673\n",
            "NumOfProducts 0.3070626438661241\n",
            "Balance 0.1298355548570011\n",
            "IsActiveMember 0.11164570613828362\n",
            "Geography_Germany 0.04771159444814778\n",
            "EstimatedSalary 0.006182821877136774\n",
            "Gender_Male 0.0\n",
            "Gender_Female 0.0\n",
            "Geography_Spain 0.0\n",
            "Geography_France 0.0\n",
            "HasCrCard 0.0\n",
            "Tenure 0.0\n",
            "CreditScore 0.0\n"
          ]
        }
      ]
    },
    {
      "cell_type": "code",
      "source": [
        "colunas_selecionadas = [\n",
        "    'Age',\n",
        "    'Balance',\n",
        "    'NumOfProducts',\n",
        "    'IsActiveMember',\n",
        "    'Geography_Germany',\n",
        "    'EstimatedSalary',\n",
        "]\n",
        "grid.fit(x_treino[colunas_selecionadas], y_treino)"
      ],
      "metadata": {
        "colab": {
          "base_uri": "https://localhost:8080/"
        },
        "id": "DKJ5VcEyHuCN",
        "outputId": "45a3c8b9-7bd2-4a5d-d74d-a2a5499155f8"
      },
      "execution_count": 61,
      "outputs": [
        {
          "output_type": "stream",
          "name": "stdout",
          "text": [
            "Fitting 10 folds for each of 18 candidates, totalling 180 fits\n",
            "[CV 1/10] END .criterion=gini, max_leaf_nodes=4;, score=0.756 total time=   0.0s\n",
            "[CV 2/10] END .criterion=gini, max_leaf_nodes=4;, score=0.731 total time=   0.0s\n",
            "[CV 3/10] END .criterion=gini, max_leaf_nodes=4;, score=0.756 total time=   0.0s\n",
            "[CV 4/10] END .criterion=gini, max_leaf_nodes=4;, score=0.757 total time=   0.0s\n",
            "[CV 5/10] END .criterion=gini, max_leaf_nodes=4;, score=0.762 total time=   0.0s\n",
            "[CV 6/10] END .criterion=gini, max_leaf_nodes=4;, score=0.738 total time=   0.0s\n",
            "[CV 7/10] END .criterion=gini, max_leaf_nodes=4;, score=0.715 total time=   0.0s\n",
            "[CV 8/10] END .criterion=gini, max_leaf_nodes=4;, score=0.726 total time=   0.0s\n",
            "[CV 9/10] END .criterion=gini, max_leaf_nodes=4;, score=0.730 total time=   0.0s\n",
            "[CV 10/10] END criterion=gini, max_leaf_nodes=4;, score=0.756 total time=   0.0s\n",
            "[CV 1/10] END .criterion=gini, max_leaf_nodes=8;, score=0.818 total time=   0.0s\n",
            "[CV 2/10] END .criterion=gini, max_leaf_nodes=8;, score=0.791 total time=   0.0s\n",
            "[CV 3/10] END .criterion=gini, max_leaf_nodes=8;, score=0.830 total time=   0.0s\n",
            "[CV 4/10] END .criterion=gini, max_leaf_nodes=8;, score=0.833 total time=   0.0s\n",
            "[CV 5/10] END .criterion=gini, max_leaf_nodes=8;, score=0.817 total time=   0.0s\n",
            "[CV 6/10] END .criterion=gini, max_leaf_nodes=8;, score=0.808 total time=   0.0s\n",
            "[CV 7/10] END .criterion=gini, max_leaf_nodes=8;, score=0.798 total time=   0.0s\n",
            "[CV 8/10] END .criterion=gini, max_leaf_nodes=8;, score=0.805 total time=   0.0s\n",
            "[CV 9/10] END .criterion=gini, max_leaf_nodes=8;, score=0.781 total time=   0.0s\n",
            "[CV 10/10] END criterion=gini, max_leaf_nodes=8;, score=0.817 total time=   0.0s\n",
            "[CV 1/10] END criterion=gini, max_leaf_nodes=16;, score=0.825 total time=   0.0s\n",
            "[CV 2/10] END criterion=gini, max_leaf_nodes=16;, score=0.819 total time=   0.0s\n",
            "[CV 3/10] END criterion=gini, max_leaf_nodes=16;, score=0.830 total time=   0.0s\n",
            "[CV 4/10] END criterion=gini, max_leaf_nodes=16;, score=0.857 total time=   0.0s\n",
            "[CV 5/10] END criterion=gini, max_leaf_nodes=16;, score=0.829 total time=   0.0s\n",
            "[CV 6/10] END criterion=gini, max_leaf_nodes=16;, score=0.832 total time=   0.0s\n",
            "[CV 7/10] END criterion=gini, max_leaf_nodes=16;, score=0.820 total time=   0.0s\n",
            "[CV 8/10] END criterion=gini, max_leaf_nodes=16;, score=0.822 total time=   0.0s\n",
            "[CV 9/10] END criterion=gini, max_leaf_nodes=16;, score=0.797 total time=   0.0s\n",
            "[CV 10/10] END criterion=gini, max_leaf_nodes=16;, score=0.832 total time=   0.0s\n",
            "[CV 1/10] END criterion=gini, max_leaf_nodes=32;, score=0.855 total time=   0.0s\n",
            "[CV 2/10] END criterion=gini, max_leaf_nodes=32;, score=0.844 total time=   0.0s\n",
            "[CV 3/10] END criterion=gini, max_leaf_nodes=32;, score=0.843 total time=   0.0s\n",
            "[CV 4/10] END criterion=gini, max_leaf_nodes=32;, score=0.889 total time=   0.0s\n",
            "[CV 5/10] END criterion=gini, max_leaf_nodes=32;, score=0.836 total time=   0.0s\n",
            "[CV 6/10] END criterion=gini, max_leaf_nodes=32;, score=0.843 total time=   0.0s\n",
            "[CV 7/10] END criterion=gini, max_leaf_nodes=32;, score=0.819 total time=   0.0s\n",
            "[CV 8/10] END criterion=gini, max_leaf_nodes=32;, score=0.847 total time=   0.0s\n",
            "[CV 9/10] END criterion=gini, max_leaf_nodes=32;, score=0.814 total time=   0.0s\n",
            "[CV 10/10] END criterion=gini, max_leaf_nodes=32;, score=0.846 total time=   0.0s\n",
            "[CV 1/10] END criterion=gini, max_leaf_nodes=64;, score=0.841 total time=   0.0s\n",
            "[CV 2/10] END criterion=gini, max_leaf_nodes=64;, score=0.832 total time=   0.0s\n",
            "[CV 3/10] END criterion=gini, max_leaf_nodes=64;, score=0.834 total time=   0.0s\n",
            "[CV 4/10] END criterion=gini, max_leaf_nodes=64;, score=0.873 total time=   0.0s\n",
            "[CV 5/10] END criterion=gini, max_leaf_nodes=64;, score=0.820 total time=   0.0s\n",
            "[CV 6/10] END criterion=gini, max_leaf_nodes=64;, score=0.843 total time=   0.0s\n",
            "[CV 7/10] END criterion=gini, max_leaf_nodes=64;, score=0.821 total time=   0.0s\n",
            "[CV 8/10] END criterion=gini, max_leaf_nodes=64;, score=0.831 total time=   0.0s\n",
            "[CV 9/10] END criterion=gini, max_leaf_nodes=64;, score=0.818 total time=   0.0s\n",
            "[CV 10/10] END criterion=gini, max_leaf_nodes=64;, score=0.847 total time=   0.0s\n",
            "[CV 1/10] END criterion=gini, max_leaf_nodes=128;, score=0.822 total time=   0.0s\n",
            "[CV 2/10] END criterion=gini, max_leaf_nodes=128;, score=0.809 total time=   0.0s\n",
            "[CV 3/10] END criterion=gini, max_leaf_nodes=128;, score=0.823 total time=   0.0s\n",
            "[CV 4/10] END criterion=gini, max_leaf_nodes=128;, score=0.859 total time=   0.0s\n",
            "[CV 5/10] END criterion=gini, max_leaf_nodes=128;, score=0.791 total time=   0.0s\n",
            "[CV 6/10] END criterion=gini, max_leaf_nodes=128;, score=0.788 total time=   0.0s\n",
            "[CV 7/10] END criterion=gini, max_leaf_nodes=128;, score=0.805 total time=   0.0s\n",
            "[CV 8/10] END criterion=gini, max_leaf_nodes=128;, score=0.826 total time=   0.0s\n",
            "[CV 9/10] END criterion=gini, max_leaf_nodes=128;, score=0.784 total time=   0.0s\n",
            "[CV 10/10] END criterion=gini, max_leaf_nodes=128;, score=0.826 total time=   0.0s\n",
            "[CV 1/10] END criterion=gini, max_leaf_nodes=256;, score=0.794 total time=   0.0s\n",
            "[CV 2/10] END criterion=gini, max_leaf_nodes=256;, score=0.740 total time=   0.0s\n",
            "[CV 3/10] END criterion=gini, max_leaf_nodes=256;, score=0.768 total time=   0.0s\n",
            "[CV 4/10] END criterion=gini, max_leaf_nodes=256;, score=0.796 total time=   0.0s\n",
            "[CV 5/10] END criterion=gini, max_leaf_nodes=256;, score=0.741 total time=   0.0s\n",
            "[CV 6/10] END criterion=gini, max_leaf_nodes=256;, score=0.777 total time=   0.0s\n",
            "[CV 7/10] END criterion=gini, max_leaf_nodes=256;, score=0.768 total time=   0.0s\n",
            "[CV 8/10] END criterion=gini, max_leaf_nodes=256;, score=0.785 total time=   0.0s\n",
            "[CV 9/10] END criterion=gini, max_leaf_nodes=256;, score=0.752 total time=   0.0s\n",
            "[CV 10/10] END criterion=gini, max_leaf_nodes=256;, score=0.781 total time=   0.0s\n",
            "[CV 1/10] END criterion=gini, max_leaf_nodes=512;, score=0.682 total time=   0.0s\n",
            "[CV 2/10] END criterion=gini, max_leaf_nodes=512;, score=0.632 total time=   0.0s\n",
            "[CV 3/10] END criterion=gini, max_leaf_nodes=512;, score=0.655 total time=   0.0s\n",
            "[CV 4/10] END criterion=gini, max_leaf_nodes=512;, score=0.763 total time=   0.0s\n",
            "[CV 5/10] END criterion=gini, max_leaf_nodes=512;, score=0.672 total time=   0.0s\n",
            "[CV 6/10] END criterion=gini, max_leaf_nodes=512;, score=0.695 total time=   0.0s\n",
            "[CV 7/10] END criterion=gini, max_leaf_nodes=512;, score=0.715 total time=   0.0s\n",
            "[CV 8/10] END criterion=gini, max_leaf_nodes=512;, score=0.726 total time=   0.0s\n",
            "[CV 9/10] END criterion=gini, max_leaf_nodes=512;, score=0.666 total time=   0.0s\n",
            "[CV 10/10] END criterion=gini, max_leaf_nodes=512;, score=0.707 total time=   0.0s\n",
            "[CV 1/10] END criterion=gini, max_leaf_nodes=2014;, score=0.715 total time=   0.0s\n",
            "[CV 2/10] END criterion=gini, max_leaf_nodes=2014;, score=0.674 total time=   0.0s\n",
            "[CV 3/10] END criterion=gini, max_leaf_nodes=2014;, score=0.692 total time=   0.0s\n",
            "[CV 4/10] END criterion=gini, max_leaf_nodes=2014;, score=0.722 total time=   0.0s\n",
            "[CV 5/10] END criterion=gini, max_leaf_nodes=2014;, score=0.687 total time=   0.0s\n",
            "[CV 6/10] END criterion=gini, max_leaf_nodes=2014;, score=0.709 total time=   0.0s\n",
            "[CV 7/10] END criterion=gini, max_leaf_nodes=2014;, score=0.696 total time=   0.0s\n",
            "[CV 8/10] END criterion=gini, max_leaf_nodes=2014;, score=0.709 total time=   0.0s\n",
            "[CV 9/10] END criterion=gini, max_leaf_nodes=2014;, score=0.691 total time=   0.0s\n",
            "[CV 10/10] END criterion=gini, max_leaf_nodes=2014;, score=0.692 total time=   0.0s\n",
            "[CV 1/10] END criterion=entropy, max_leaf_nodes=4;, score=0.756 total time=   0.0s\n",
            "[CV 2/10] END criterion=entropy, max_leaf_nodes=4;, score=0.731 total time=   0.0s\n",
            "[CV 3/10] END criterion=entropy, max_leaf_nodes=4;, score=0.756 total time=   0.0s\n",
            "[CV 4/10] END criterion=entropy, max_leaf_nodes=4;, score=0.757 total time=   0.0s\n",
            "[CV 5/10] END criterion=entropy, max_leaf_nodes=4;, score=0.762 total time=   0.0s\n",
            "[CV 6/10] END criterion=entropy, max_leaf_nodes=4;, score=0.735 total time=   0.0s\n",
            "[CV 7/10] END criterion=entropy, max_leaf_nodes=4;, score=0.715 total time=   0.0s\n",
            "[CV 8/10] END criterion=entropy, max_leaf_nodes=4;, score=0.726 total time=   0.0s\n",
            "[CV 9/10] END criterion=entropy, max_leaf_nodes=4;, score=0.730 total time=   0.0s\n",
            "[CV 10/10] END criterion=entropy, max_leaf_nodes=4;, score=0.755 total time=   0.0s\n",
            "[CV 1/10] END criterion=entropy, max_leaf_nodes=8;, score=0.818 total time=   0.0s\n",
            "[CV 2/10] END criterion=entropy, max_leaf_nodes=8;, score=0.790 total time=   0.0s\n",
            "[CV 3/10] END criterion=entropy, max_leaf_nodes=8;, score=0.830 total time=   0.0s\n",
            "[CV 4/10] END criterion=entropy, max_leaf_nodes=8;, score=0.833 total time=   0.0s\n",
            "[CV 5/10] END criterion=entropy, max_leaf_nodes=8;, score=0.817 total time=   0.0s\n",
            "[CV 6/10] END criterion=entropy, max_leaf_nodes=8;, score=0.803 total time=   0.0s\n",
            "[CV 7/10] END criterion=entropy, max_leaf_nodes=8;, score=0.798 total time=   0.0s\n",
            "[CV 8/10] END criterion=entropy, max_leaf_nodes=8;, score=0.805 total time=   0.0s\n",
            "[CV 9/10] END criterion=entropy, max_leaf_nodes=8;, score=0.781 total time=   0.0s\n",
            "[CV 10/10] END criterion=entropy, max_leaf_nodes=8;, score=0.814 total time=   0.0s\n",
            "[CV 1/10] END criterion=entropy, max_leaf_nodes=16;, score=0.826 total time=   0.0s\n",
            "[CV 2/10] END criterion=entropy, max_leaf_nodes=16;, score=0.833 total time=   0.0s\n",
            "[CV 3/10] END criterion=entropy, max_leaf_nodes=16;, score=0.832 total time=   0.0s\n",
            "[CV 4/10] END criterion=entropy, max_leaf_nodes=16;, score=0.861 total time=   0.0s\n",
            "[CV 5/10] END criterion=entropy, max_leaf_nodes=16;, score=0.831 total time=   0.0s\n",
            "[CV 6/10] END criterion=entropy, max_leaf_nodes=16;, score=0.836 total time=   0.0s\n",
            "[CV 7/10] END criterion=entropy, max_leaf_nodes=16;, score=0.817 total time=   0.0s\n",
            "[CV 8/10] END criterion=entropy, max_leaf_nodes=16;, score=0.838 total time=   0.0s\n",
            "[CV 9/10] END criterion=entropy, max_leaf_nodes=16;, score=0.822 total time=   0.0s\n",
            "[CV 10/10] END criterion=entropy, max_leaf_nodes=16;, score=0.841 total time=   0.0s\n",
            "[CV 1/10] END criterion=entropy, max_leaf_nodes=32;, score=0.846 total time=   0.0s\n",
            "[CV 2/10] END criterion=entropy, max_leaf_nodes=32;, score=0.843 total time=   0.0s\n",
            "[CV 3/10] END criterion=entropy, max_leaf_nodes=32;, score=0.858 total time=   0.0s\n",
            "[CV 4/10] END criterion=entropy, max_leaf_nodes=32;, score=0.888 total time=   0.0s\n",
            "[CV 5/10] END criterion=entropy, max_leaf_nodes=32;, score=0.842 total time=   0.0s\n",
            "[CV 6/10] END criterion=entropy, max_leaf_nodes=32;, score=0.838 total time=   0.0s\n",
            "[CV 7/10] END criterion=entropy, max_leaf_nodes=32;, score=0.823 total time=   0.0s\n",
            "[CV 8/10] END criterion=entropy, max_leaf_nodes=32;, score=0.845 total time=   0.0s\n",
            "[CV 9/10] END criterion=entropy, max_leaf_nodes=32;, score=0.833 total time=   0.0s\n",
            "[CV 10/10] END criterion=entropy, max_leaf_nodes=32;, score=0.843 total time=   0.0s\n",
            "[CV 1/10] END criterion=entropy, max_leaf_nodes=64;, score=0.827 total time=   0.0s\n",
            "[CV 2/10] END criterion=entropy, max_leaf_nodes=64;, score=0.824 total time=   0.0s\n",
            "[CV 3/10] END criterion=entropy, max_leaf_nodes=64;, score=0.854 total time=   0.0s\n",
            "[CV 4/10] END criterion=entropy, max_leaf_nodes=64;, score=0.870 total time=   0.0s\n",
            "[CV 5/10] END criterion=entropy, max_leaf_nodes=64;, score=0.839 total time=   0.0s\n",
            "[CV 6/10] END criterion=entropy, max_leaf_nodes=64;, score=0.828 total time=   0.0s\n",
            "[CV 7/10] END criterion=entropy, max_leaf_nodes=64;, score=0.827 total time=   0.0s\n",
            "[CV 8/10] END criterion=entropy, max_leaf_nodes=64;, score=0.836 total time=   0.0s\n",
            "[CV 9/10] END criterion=entropy, max_leaf_nodes=64;, score=0.827 total time=   0.0s\n",
            "[CV 10/10] END criterion=entropy, max_leaf_nodes=64;, score=0.851 total time=   0.0s\n",
            "[CV 1/10] END criterion=entropy, max_leaf_nodes=128;, score=0.822 total time=   0.0s\n",
            "[CV 2/10] END criterion=entropy, max_leaf_nodes=128;, score=0.792 total time=   0.0s\n",
            "[CV 3/10] END criterion=entropy, max_leaf_nodes=128;, score=0.821 total time=   0.0s\n",
            "[CV 4/10] END criterion=entropy, max_leaf_nodes=128;, score=0.839 total time=   0.0s\n",
            "[CV 5/10] END criterion=entropy, max_leaf_nodes=128;, score=0.817 total time=   0.0s\n",
            "[CV 6/10] END criterion=entropy, max_leaf_nodes=128;, score=0.803 total time=   0.0s\n",
            "[CV 7/10] END criterion=entropy, max_leaf_nodes=128;, score=0.813 total time=   0.0s\n",
            "[CV 8/10] END criterion=entropy, max_leaf_nodes=128;, score=0.810 total time=   0.0s\n",
            "[CV 9/10] END criterion=entropy, max_leaf_nodes=128;, score=0.813 total time=   0.0s\n",
            "[CV 10/10] END criterion=entropy, max_leaf_nodes=128;, score=0.819 total time=   0.0s\n",
            "[CV 1/10] END criterion=entropy, max_leaf_nodes=256;, score=0.796 total time=   0.0s\n",
            "[CV 2/10] END criterion=entropy, max_leaf_nodes=256;, score=0.754 total time=   0.0s\n",
            "[CV 3/10] END criterion=entropy, max_leaf_nodes=256;, score=0.805 total time=   0.0s\n",
            "[CV 4/10] END criterion=entropy, max_leaf_nodes=256;, score=0.791 total time=   0.0s\n",
            "[CV 5/10] END criterion=entropy, max_leaf_nodes=256;, score=0.798 total time=   0.0s\n",
            "[CV 6/10] END criterion=entropy, max_leaf_nodes=256;, score=0.751 total time=   0.0s\n",
            "[CV 7/10] END criterion=entropy, max_leaf_nodes=256;, score=0.775 total time=   0.0s\n",
            "[CV 8/10] END criterion=entropy, max_leaf_nodes=256;, score=0.763 total time=   0.0s\n",
            "[CV 9/10] END criterion=entropy, max_leaf_nodes=256;, score=0.778 total time=   0.0s\n",
            "[CV 10/10] END criterion=entropy, max_leaf_nodes=256;, score=0.788 total time=   0.0s\n",
            "[CV 1/10] END criterion=entropy, max_leaf_nodes=512;, score=0.727 total time=   0.0s\n",
            "[CV 2/10] END criterion=entropy, max_leaf_nodes=512;, score=0.690 total time=   0.0s\n",
            "[CV 3/10] END criterion=entropy, max_leaf_nodes=512;, score=0.715 total time=   0.0s\n",
            "[CV 4/10] END criterion=entropy, max_leaf_nodes=512;, score=0.715 total time=   0.0s\n",
            "[CV 5/10] END criterion=entropy, max_leaf_nodes=512;, score=0.734 total time=   0.0s\n",
            "[CV 6/10] END criterion=entropy, max_leaf_nodes=512;, score=0.740 total time=   0.0s\n",
            "[CV 7/10] END criterion=entropy, max_leaf_nodes=512;, score=0.709 total time=   0.0s\n",
            "[CV 8/10] END criterion=entropy, max_leaf_nodes=512;, score=0.691 total time=   0.1s\n",
            "[CV 9/10] END criterion=entropy, max_leaf_nodes=512;, score=0.731 total time=   0.0s\n",
            "[CV 10/10] END criterion=entropy, max_leaf_nodes=512;, score=0.744 total time=   0.0s\n",
            "[CV 1/10] END criterion=entropy, max_leaf_nodes=2014;, score=0.698 total time=   0.0s\n",
            "[CV 2/10] END criterion=entropy, max_leaf_nodes=2014;, score=0.685 total time=   0.0s\n",
            "[CV 3/10] END criterion=entropy, max_leaf_nodes=2014;, score=0.709 total time=   0.0s\n",
            "[CV 4/10] END criterion=entropy, max_leaf_nodes=2014;, score=0.697 total time=   0.1s\n",
            "[CV 5/10] END criterion=entropy, max_leaf_nodes=2014;, score=0.715 total time=   0.0s\n",
            "[CV 6/10] END criterion=entropy, max_leaf_nodes=2014;, score=0.677 total time=   0.0s\n",
            "[CV 7/10] END criterion=entropy, max_leaf_nodes=2014;, score=0.684 total time=   0.0s\n",
            "[CV 8/10] END criterion=entropy, max_leaf_nodes=2014;, score=0.665 total time=   0.0s\n",
            "[CV 9/10] END criterion=entropy, max_leaf_nodes=2014;, score=0.699 total time=   0.0s\n",
            "[CV 10/10] END criterion=entropy, max_leaf_nodes=2014;, score=0.693 total time=   0.0s\n"
          ]
        },
        {
          "output_type": "execute_result",
          "data": {
            "text/plain": [
              "GridSearchCV(cv=10, estimator=DecisionTreeClassifier(random_state=61658),\n",
              "             param_grid={'criterion': ['gini', 'entropy'],\n",
              "                         'max_leaf_nodes': [4, 8, 16, 32, 64, 128, 256, 512,\n",
              "                                            2014]},\n",
              "             scoring='roc_auc', verbose=5)"
            ]
          },
          "metadata": {},
          "execution_count": 61
        }
      ]
    },
    {
      "cell_type": "code",
      "source": [
        "y_pred2 = grid.predict_proba(x_teste[colunas_selecionadas])[:,1]\n",
        "roc_auc_score(y_teste, y_pred2)"
      ],
      "metadata": {
        "colab": {
          "base_uri": "https://localhost:8080/"
        },
        "id": "gTZuaH70I_bG",
        "outputId": "d91481d8-88e9-4570-a24b-5938486f5f66"
      },
      "execution_count": 62,
      "outputs": [
        {
          "output_type": "execute_result",
          "data": {
            "text/plain": [
              "0.8461416666666665"
            ]
          },
          "metadata": {},
          "execution_count": 62
        }
      ]
    }
  ]
}